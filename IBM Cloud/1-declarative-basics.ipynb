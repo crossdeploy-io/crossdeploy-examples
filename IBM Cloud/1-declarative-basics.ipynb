{
 "cells": [
  {
   "cell_type": "code",
   "execution_count": 1,
   "metadata": {
    "id": "e305d706-8c0b-4bde-bc67-78bb24a87544",
    "tags": []
   },
   "outputs": [
    {
     "name": "stdout",
     "output_type": "stream",
     "text": [
      "Collecting crossdeploy\n",
      "  Downloading crossdeploy-0.1.7-cp310-cp310-manylinux_2_5_x86_64.manylinux1_x86_64.manylinux_2_17_x86_64.manylinux2014_x86_64.whl (63.1 MB)\n",
      "\u001b[2K     \u001b[90m━━━━━━━━━━━━━━━━━━━━━━━━━━━━━━━━━━━━━━━━\u001b[0m \u001b[32m63.1/63.1 MB\u001b[0m \u001b[31m2.8 MB/s\u001b[0m eta \u001b[36m0:00:00\u001b[0m00:01\u001b[0m00:01\u001b[0m\n",
      "\u001b[?25hCollecting constructs\n",
      "  Downloading constructs-10.1.221-py3-none-any.whl (57 kB)\n",
      "\u001b[2K     \u001b[90m━━━━━━━━━━━━━━━━━━━━━━━━━━━━━━━━━━━━━━━━\u001b[0m \u001b[32m57.8/57.8 kB\u001b[0m \u001b[31m12.2 MB/s\u001b[0m eta \u001b[36m0:00:00\u001b[0m\n",
      "\u001b[?25hCollecting jsii\n",
      "  Downloading jsii-1.73.0-py3-none-any.whl (570 kB)\n",
      "\u001b[2K     \u001b[90m━━━━━━━━━━━━━━━━━━━━━━━━━━━━━━━━━━━━━━\u001b[0m \u001b[32m571.0/571.0 kB\u001b[0m \u001b[31m45.7 MB/s\u001b[0m eta \u001b[36m0:00:00\u001b[0m\n",
      "\u001b[?25hCollecting publication>=0.0.3\n",
      "  Downloading publication-0.0.3-py2.py3-none-any.whl (7.7 kB)\n",
      "Collecting typeguard~=2.13.3\n",
      "  Downloading typeguard-2.13.3-py3-none-any.whl (17 kB)\n",
      "Requirement already satisfied: typing-extensions<5.0,>=3.7 in /opt/conda/envs/Python-3.10-Premium/lib/python3.10/site-packages (from jsii->crossdeploy) (4.3.0)\n",
      "Collecting cattrs<22.3,>=1.8\n",
      "  Downloading cattrs-22.2.0-py3-none-any.whl (35 kB)\n",
      "Requirement already satisfied: attrs<23.0,>=21.2 in /opt/conda/envs/Python-3.10-Premium/lib/python3.10/site-packages (from jsii->crossdeploy) (21.4.0)\n",
      "Requirement already satisfied: python-dateutil in /opt/conda/envs/Python-3.10-Premium/lib/python3.10/site-packages (from jsii->crossdeploy) (2.8.2)\n",
      "Collecting exceptiongroup\n",
      "  Downloading exceptiongroup-1.1.0-py3-none-any.whl (14 kB)\n",
      "Requirement already satisfied: six>=1.5 in /opt/conda/envs/Python-3.10-Premium/lib/python3.10/site-packages (from python-dateutil->jsii->crossdeploy) (1.16.0)\n",
      "Installing collected packages: publication, typeguard, exceptiongroup, cattrs, jsii, constructs, crossdeploy\n",
      "  Attempting uninstall: typeguard\n",
      "    Found existing installation: typeguard 2.12.0\n",
      "    Uninstalling typeguard-2.12.0:\n",
      "      Successfully uninstalled typeguard-2.12.0\n",
      "Successfully installed cattrs-22.2.0 constructs-10.1.221 crossdeploy-0.1.7 exceptiongroup-1.1.0 jsii-1.73.0 publication-0.0.3 typeguard-2.13.3\n"
     ]
    }
   ],
   "source": [
    "# Install the latest version of crossdeploy\n",
    "! pip install --upgrade crossdeploy\n",
    "\n",
    "# Node is installed by default in Watson Studio, JupyterLab and JupyterNotebook environments. \n",
    "# However, in case your environment does not have node installed, it can be installed with the below command.\n",
    "# ! pip install \"nodejs-bin[cmd]\""
   ]
  },
  {
   "cell_type": "markdown",
   "metadata": {
    "id": "7565206f-041d-4da2-83e0-8e413f6edb56"
   },
   "source": [
    "# Example 1: Understanding how declarative approach works\n",
    "\n",
    "There are 3 parts to do this example,\n",
    "\n",
    "- Part A: Running the same code repeatly\n",
    "\n",
    "- Part B: Modifying the model name\n",
    "\n",
    "- Part C: Modifying the model's hyperparameter"
   ]
  },
  {
   "cell_type": "markdown",
   "metadata": {
    "id": "e65fbbc1-135d-4b87-a8eb-a74f1c4d9fa6"
   },
   "source": [
    "# Imports"
   ]
  },
  {
   "cell_type": "code",
   "execution_count": 2,
   "metadata": {
    "id": "96788d40-bb7b-4c01-be63-2dacc5032b2d",
    "tags": []
   },
   "outputs": [],
   "source": [
    "import pandas as pd\n",
    "\n",
    "from crossdeploy.utils import utils\n",
    "from crossdeploy.crossdeploy import CrossDeploy\n",
    "\n",
    "from sklearn.pipeline import Pipeline\n",
    "from sklearn.ensemble import RandomForestClassifier\n",
    "from sklearn.preprocessing import OneHotEncoder\n",
    "from sklearn.compose import make_column_selector, make_column_transformer"
   ]
  },
  {
   "cell_type": "markdown",
   "metadata": {
    "id": "22e16462-70a9-4c71-89ec-d2cbc3dce52a"
   },
   "source": [
    "# Define variables"
   ]
  },
  {
   "cell_type": "code",
   "execution_count": 3,
   "metadata": {
    "id": "23da4c9a-bf87-452e-b6c9-0266f471cb10",
    "tags": []
   },
   "outputs": [],
   "source": [
    "CLOUD_API_KEY = \"xxx\"\n",
    "CLOUD_URL = \"https://us-south.ml.cloud.ibm.com\"\n",
    "PROJECT_ID = \"fc513094-926a-404b-9001-d15a03884123\"\n",
    "SPACE_ID = \"9dd079b6-b503-4c77-ae3a-d10bf6d8adae\""
   ]
  },
  {
   "cell_type": "markdown",
   "metadata": {
    "id": "d50a3619-c06e-4661-ac62-05db1a8f1cc2"
   },
   "source": [
    "# Import data and preprocessing step"
   ]
  },
  {
   "cell_type": "code",
   "execution_count": 4,
   "metadata": {
    "id": "3f487210-a0a4-42af-b9ad-e0d812b7cb4e",
    "tags": []
   },
   "outputs": [],
   "source": [
    "df = pd.read_csv(\"https://raw.githubusercontent.com/crossdeploy-io/crossdeploy-examples/main/data/mortgage-default.csv\")\n",
    "\n",
    "label_column = \"MortgageDefault\"\n",
    "y = df[label_column]\n",
    "X = df.drop(label_column, axis=1)\n",
    "\n",
    "ct = make_column_transformer(\n",
    "    (OneHotEncoder(), make_column_selector(dtype_include=object)),\n",
    "    remainder=\"passthrough\"\n",
    ")"
   ]
  },
  {
   "cell_type": "markdown",
   "metadata": {
    "id": "c9dbb7a4-31bf-45be-9e6e-75a5e24c6865"
   },
   "source": [
    "# Part A: Running the same code repeatedly\n",
    "\n",
    "Running the code below repeatedly, will result in one model being created in your project.\n",
    "\n",
    "Note that the model id, always remains the same."
   ]
  },
  {
   "cell_type": "code",
   "execution_count": 5,
   "metadata": {
    "id": "9c262d02-1d00-4a80-891b-bd31c3af1721",
    "tags": []
   },
   "outputs": [
    {
     "name": "stdout",
     "output_type": "stream",
     "text": [
      "Applying ...\n",
      "\n",
      "Terraform used the selected providers to generate the following execution\n",
      "plan. Resource actions are indicated with the following symbols:\n",
      "  \u001b[32m+\u001b[0m create\n",
      "\u001b[0m\n",
      "Terraform will perform the following actions:\n",
      "\n",
      "\u001b[1m  # ibmcpd_model.crossdeploy_mortgagemodelrf_D0A9BA80\u001b[0m will be created\u001b[0m\u001b[0m\n",
      "\u001b[0m  \u001b[32m+\u001b[0m\u001b[0m resource \"ibmcpd_model\" \"crossdeploy_mortgagemodelrf_D0A9BA80\" {\n",
      "      \u001b[32m+\u001b[0m \u001b[0m\u001b[1m\u001b[0mchecksum\u001b[0m\u001b[0m      = \"dfef315f632960684a95b017c32ea912\"\n",
      "      \u001b[32m+\u001b[0m \u001b[0m\u001b[1m\u001b[0mid\u001b[0m\u001b[0m            = (known after apply)\n",
      "      \u001b[32m+\u001b[0m \u001b[0m\u001b[1m\u001b[0mmodel_path\u001b[0m\u001b[0m    = \"dfef315f632960684a95b017c32ea912.tar.gz\"\n",
      "      \u001b[32m+\u001b[0m \u001b[0m\u001b[1m\u001b[0mname\u001b[0m\u001b[0m          = \"mortgage-model-rf\"\n",
      "      \u001b[32m+\u001b[0m \u001b[0m\u001b[1m\u001b[0mproject_id\u001b[0m\u001b[0m    = \"fc513094-926a-404b-9001-d15a03884123\"\n",
      "      \u001b[32m+\u001b[0m \u001b[0m\u001b[1m\u001b[0msoftware_spec\u001b[0m\u001b[0m = \"runtime-22.2-py3.10\"\n",
      "      \u001b[32m+\u001b[0m \u001b[0m\u001b[1m\u001b[0mtype\u001b[0m\u001b[0m          = \"scikit-learn_1.1\"\n",
      "    }\n",
      "\n",
      "\u001b[0m\u001b[1mPlan:\u001b[0m 1 to add, 0 to change, 0 to destroy.\n",
      "\u001b[0m\u001b[0m\u001b[1mibmcpd_model.crossdeploy_mortgagemodelrf_D0A9BA80: Creating...\u001b[0m\u001b[0m\n",
      "\u001b[0m\u001b[1mibmcpd_model.crossdeploy_mortgagemodelrf_D0A9BA80: Creation complete after 6s [id=a5bc40f6-7ee7-4535-9c82-491420ce47df]\u001b[0m\n",
      "\u001b[0m\u001b[1m\u001b[32m\n",
      "Apply complete! Resources: 1 added, 0 changed, 0 destroyed.\n",
      "\u001b[0m\n",
      "Model ID: a5bc40f6-7ee7-4535-9c82-491420ce47df\n"
     ]
    }
   ],
   "source": [
    "MODEL_NAME = \"mortgage-model-rf\"\n",
    "\n",
    "model = Pipeline(steps=[\n",
    "    (\"transform\", ct), \n",
    "    (\"clf\", RandomForestClassifier(n_estimators=3, max_depth=3, random_state=12345))\n",
    "])\n",
    "model.fit(X, y)\n",
    "model.score(X, y)\n",
    "\n",
    "flow = CrossDeploy()\n",
    "\n",
    "flow.ibm.Provider(url=CLOUD_URL, api_key=CLOUD_API_KEY)\n",
    "\n",
    "model_rf = flow.ibm.Model(model)(\n",
    "    id = \"mortgage-model-rf\",\n",
    "    name = MODEL_NAME,\n",
    "    project_id = PROJECT_ID,\n",
    ")\n",
    "\n",
    "flow.apply()\n",
    "\n",
    "model_state = utils.get_resource_by_name(model_rf.friendly_unique_id)\n",
    "\n",
    "print()\n",
    "print(f\"Model ID: {model_state['id']}\")"
   ]
  },
  {
   "cell_type": "markdown",
   "metadata": {
    "id": "b6f6e5d8-8aba-4347-ae3b-6d1b502267b9"
   },
   "source": [
    "# Part B: Modifying the model name\n",
    "\n",
    "Try modifying the `MODEL_NAME` and running the code.\n",
    "\n",
    "You should see that it only results in an update instead of recreating a model.\n",
    "\n",
    "In addition, the model id remains the same as the earlier example."
   ]
  },
  {
   "cell_type": "code",
   "execution_count": 6,
   "metadata": {
    "id": "67d97fd8-c1b1-4fcf-a5fc-cccd46be2c8c",
    "tags": []
   },
   "outputs": [
    {
     "name": "stdout",
     "output_type": "stream",
     "text": [
      "Applying ...\n",
      "\u001b[0m\u001b[1mibmcpd_model.crossdeploy_mortgagemodelrf_D0A9BA80: Refreshing state... [id=a5bc40f6-7ee7-4535-9c82-491420ce47df]\u001b[0m\n",
      "\n",
      "Terraform used the selected providers to generate the following execution\n",
      "plan. Resource actions are indicated with the following symbols:\n",
      "  \u001b[33m~\u001b[0m update in-place\n",
      "\u001b[0m\n",
      "Terraform will perform the following actions:\n",
      "\n",
      "\u001b[1m  # ibmcpd_model.crossdeploy_mortgagemodelrf_D0A9BA80\u001b[0m will be updated in-place\u001b[0m\u001b[0m\n",
      "\u001b[0m  \u001b[33m~\u001b[0m\u001b[0m resource \"ibmcpd_model\" \"crossdeploy_mortgagemodelrf_D0A9BA80\" {\n",
      "        \u001b[1m\u001b[0mid\u001b[0m\u001b[0m            = \"a5bc40f6-7ee7-4535-9c82-491420ce47df\"\n",
      "      \u001b[33m~\u001b[0m \u001b[0m\u001b[1m\u001b[0mname\u001b[0m\u001b[0m          = \"mortgage-model-rf\" \u001b[33m->\u001b[0m \u001b[0m\"mortgage-model\"\n",
      "        \u001b[90m# (5 unchanged attributes hidden)\u001b[0m\u001b[0m\n",
      "    }\n",
      "\n",
      "\u001b[0m\u001b[1mPlan:\u001b[0m 0 to add, 1 to change, 0 to destroy.\n",
      "\u001b[0m\u001b[0m\u001b[1mibmcpd_model.crossdeploy_mortgagemodelrf_D0A9BA80: Modifying... [id=a5bc40f6-7ee7-4535-9c82-491420ce47df]\u001b[0m\u001b[0m\n",
      "\u001b[0m\u001b[1mibmcpd_model.crossdeploy_mortgagemodelrf_D0A9BA80: Modifications complete after 1s [id=a5bc40f6-7ee7-4535-9c82-491420ce47df]\u001b[0m\n",
      "\u001b[0m\u001b[1m\u001b[32m\n",
      "Apply complete! Resources: 0 added, 1 changed, 0 destroyed.\n",
      "\u001b[0m\n",
      "Model ID:   a5bc40f6-7ee7-4535-9c82-491420ce47df\n",
      "Model Name: mortgage-model\n"
     ]
    }
   ],
   "source": [
    "MODEL_NAME = \"mortgage-model\"\n",
    "\n",
    "model = Pipeline(steps=[\n",
    "    (\"transform\", ct), \n",
    "    (\"clf\", RandomForestClassifier(n_estimators=3, max_depth=3, random_state=12345))\n",
    "])\n",
    "model.fit(X, y)\n",
    "model.score(X, y)\n",
    "\n",
    "flow = CrossDeploy()\n",
    "\n",
    "flow.ibm.Provider(url=CLOUD_URL, api_key=CLOUD_API_KEY)\n",
    "\n",
    "model_rf = flow.ibm.Model(model)(\n",
    "    id = \"mortgage-model-rf\",\n",
    "    name = MODEL_NAME,\n",
    "    project_id = PROJECT_ID,\n",
    ")\n",
    "\n",
    "flow.apply()\n",
    "\n",
    "model_state = utils.get_resource_by_name(model_rf.friendly_unique_id)\n",
    "\n",
    "print()\n",
    "print(f\"Model ID:   {model_state['id']}\")\n",
    "print(f\"Model Name: {model_state['name']}\")"
   ]
  },
  {
   "cell_type": "markdown",
   "metadata": {
    "id": "f7e1aef7-c2c6-4ee3-b5ce-2880dfa8bafd"
   },
   "source": [
    "# Part C: Modifying the model's hyperparameter\n",
    "\n",
    "Change`n_estimators` or `max_depth` to another value.\n",
    "\n",
    "This is basically a new version of the model as training the model with new hyperparameters is a significant change.\n",
    "\n",
    "In this case, you should see that the model is destroyed and recreated. A new model id will be produced."
   ]
  },
  {
   "cell_type": "code",
   "execution_count": 7,
   "metadata": {
    "id": "65c446bf-e378-4d36-b043-a48f130c9f65",
    "tags": []
   },
   "outputs": [
    {
     "name": "stdout",
     "output_type": "stream",
     "text": [
      "Applying ...\n",
      "\u001b[0m\u001b[1mibmcpd_model.crossdeploy_mortgagemodelrf_D0A9BA80: Refreshing state... [id=a5bc40f6-7ee7-4535-9c82-491420ce47df]\u001b[0m\n",
      "\n",
      "Terraform used the selected providers to generate the following execution\n",
      "plan. Resource actions are indicated with the following symbols:\n",
      "\u001b[32m+\u001b[0m/\u001b[31m-\u001b[0m create replacement and then destroy\n",
      "\u001b[0m\n",
      "Terraform will perform the following actions:\n",
      "\n",
      "\u001b[1m  # ibmcpd_model.crossdeploy_mortgagemodelrf_D0A9BA80\u001b[0m must be \u001b[1m\u001b[31mreplaced\u001b[0m\u001b[0m\n",
      "\u001b[0m\u001b[32m+\u001b[0m/\u001b[31m-\u001b[0m\u001b[0m resource \"ibmcpd_model\" \"crossdeploy_mortgagemodelrf_D0A9BA80\" {\n",
      "      \u001b[33m~\u001b[0m \u001b[0m\u001b[1m\u001b[0mchecksum\u001b[0m\u001b[0m      = \"dfef315f632960684a95b017c32ea912\" \u001b[33m->\u001b[0m \u001b[0m\"d8c46fd2ee29d65c1edde2bd0af873e5\" \u001b[31m# forces replacement\u001b[0m\u001b[0m\n",
      "      \u001b[33m~\u001b[0m \u001b[0m\u001b[1m\u001b[0mid\u001b[0m\u001b[0m            = \"a5bc40f6-7ee7-4535-9c82-491420ce47df\" \u001b[33m->\u001b[0m \u001b[0m(known after apply)\n",
      "      \u001b[33m~\u001b[0m \u001b[0m\u001b[1m\u001b[0mmodel_path\u001b[0m\u001b[0m    = \"dfef315f632960684a95b017c32ea912.tar.gz\" \u001b[33m->\u001b[0m \u001b[0m\"d8c46fd2ee29d65c1edde2bd0af873e5.tar.gz\" \u001b[31m# forces replacement\u001b[0m\u001b[0m\n",
      "      \u001b[33m~\u001b[0m \u001b[0m\u001b[1m\u001b[0mname\u001b[0m\u001b[0m          = \"mortgage-model\" \u001b[33m->\u001b[0m \u001b[0m\"mortgage-model-rf\"\n",
      "        \u001b[90m# (3 unchanged attributes hidden)\u001b[0m\u001b[0m\n",
      "    }\n",
      "\n",
      "\u001b[0m\u001b[1mPlan:\u001b[0m 1 to add, 0 to change, 1 to destroy.\n",
      "\u001b[0m\u001b[0m\u001b[1mibmcpd_model.crossdeploy_mortgagemodelrf_D0A9BA80: Creating...\u001b[0m\u001b[0m\n",
      "\u001b[0m\u001b[1mibmcpd_model.crossdeploy_mortgagemodelrf_D0A9BA80: Creation complete after 6s [id=26a1df53-c154-44fa-8d0e-7f567ce52eed]\u001b[0m\n",
      "\u001b[0m\u001b[1mibmcpd_model.crossdeploy_mortgagemodelrf_D0A9BA80 (deposed object a8b34d0b): Destroying... [id=a5bc40f6-7ee7-4535-9c82-491420ce47df]\u001b[0m\u001b[0m\n",
      "\u001b[0m\u001b[1mibmcpd_model.crossdeploy_mortgagemodelrf_D0A9BA80: Destruction complete after 2s\u001b[0m\n",
      "\u001b[0m\u001b[1m\u001b[32m\n",
      "Apply complete! Resources: 1 added, 0 changed, 1 destroyed.\n",
      "\u001b[0m\n",
      "Model ID: 26a1df53-c154-44fa-8d0e-7f567ce52eed\n"
     ]
    }
   ],
   "source": [
    "MODEL_NAME = \"mortgage-model-rf\"\n",
    "\n",
    "model = Pipeline(steps=[\n",
    "    (\"transform\", ct), \n",
    "    (\"clf\", RandomForestClassifier(n_estimators=3, max_depth=10, random_state=12345))\n",
    "])\n",
    "model.fit(X, y)\n",
    "model.score(X, y)\n",
    "\n",
    "flow = CrossDeploy()\n",
    "\n",
    "flow.ibm.Provider(url=CLOUD_URL, api_key=CLOUD_API_KEY)\n",
    "\n",
    "model_rf = flow.ibm.Model(model)(\n",
    "    id = \"mortgage-model-rf\",\n",
    "    name = MODEL_NAME,\n",
    "    project_id = PROJECT_ID,\n",
    ")\n",
    "\n",
    "flow.apply()\n",
    "\n",
    "model_state = utils.get_resource_by_name(model_rf.friendly_unique_id)\n",
    "\n",
    "print()\n",
    "print(f\"Model ID: {model_state['id']}\")"
   ]
  },
  {
   "cell_type": "markdown",
   "metadata": {
    "id": "9836f594-f180-45b9-b892-fe4e6563e268"
   },
   "source": [
    "# Clean up"
   ]
  },
  {
   "cell_type": "code",
   "execution_count": 9,
   "metadata": {
    "id": "a40fb8de-8e53-40c4-8ed3-e32678fa90c2",
    "tags": []
   },
   "outputs": [
    {
     "name": "stdout",
     "output_type": "stream",
     "text": [
      "Destroying ...\n",
      "\u001b[0m\u001b[1mibmcpd_model.crossdeploy_mortgagemodelrf_D0A9BA80: Refreshing state... [id=26a1df53-c154-44fa-8d0e-7f567ce52eed]\u001b[0m\n",
      "\n",
      "Terraform used the selected providers to generate the following execution\n",
      "plan. Resource actions are indicated with the following symbols:\n",
      "  \u001b[31m-\u001b[0m destroy\n",
      "\u001b[0m\n",
      "Terraform will perform the following actions:\n",
      "\n",
      "\u001b[1m  # ibmcpd_model.crossdeploy_mortgagemodelrf_D0A9BA80\u001b[0m will be \u001b[1m\u001b[31mdestroyed\u001b[0m\u001b[0m\n",
      "\u001b[0m  \u001b[31m-\u001b[0m\u001b[0m resource \"ibmcpd_model\" \"crossdeploy_mortgagemodelrf_D0A9BA80\" {\n",
      "      \u001b[31m-\u001b[0m \u001b[0m\u001b[1m\u001b[0mchecksum\u001b[0m\u001b[0m      = \"d8c46fd2ee29d65c1edde2bd0af873e5\" \u001b[90m->\u001b[0m \u001b[0m\u001b[90mnull\u001b[0m\u001b[0m\n",
      "      \u001b[31m-\u001b[0m \u001b[0m\u001b[1m\u001b[0mid\u001b[0m\u001b[0m            = \"26a1df53-c154-44fa-8d0e-7f567ce52eed\" \u001b[90m->\u001b[0m \u001b[0m\u001b[90mnull\u001b[0m\u001b[0m\n",
      "      \u001b[31m-\u001b[0m \u001b[0m\u001b[1m\u001b[0mmodel_path\u001b[0m\u001b[0m    = \"d8c46fd2ee29d65c1edde2bd0af873e5.tar.gz\" \u001b[90m->\u001b[0m \u001b[0m\u001b[90mnull\u001b[0m\u001b[0m\n",
      "      \u001b[31m-\u001b[0m \u001b[0m\u001b[1m\u001b[0mname\u001b[0m\u001b[0m          = \"mortgage-model-rf\" \u001b[90m->\u001b[0m \u001b[0m\u001b[90mnull\u001b[0m\u001b[0m\n",
      "      \u001b[31m-\u001b[0m \u001b[0m\u001b[1m\u001b[0mproject_id\u001b[0m\u001b[0m    = \"fc513094-926a-404b-9001-d15a03884123\" \u001b[90m->\u001b[0m \u001b[0m\u001b[90mnull\u001b[0m\u001b[0m\n",
      "      \u001b[31m-\u001b[0m \u001b[0m\u001b[1m\u001b[0msoftware_spec\u001b[0m\u001b[0m = \"runtime-22.2-py3.10\" \u001b[90m->\u001b[0m \u001b[0m\u001b[90mnull\u001b[0m\u001b[0m\n",
      "      \u001b[31m-\u001b[0m \u001b[0m\u001b[1m\u001b[0mtype\u001b[0m\u001b[0m          = \"scikit-learn_1.1\" \u001b[90m->\u001b[0m \u001b[0m\u001b[90mnull\u001b[0m\u001b[0m\n",
      "    }\n",
      "\n",
      "\u001b[0m\u001b[1mPlan:\u001b[0m 0 to add, 0 to change, 1 to destroy.\n",
      "\u001b[0m\u001b[0m\u001b[1mibmcpd_model.crossdeploy_mortgagemodelrf_D0A9BA80: Destroying... [id=26a1df53-c154-44fa-8d0e-7f567ce52eed]\u001b[0m\u001b[0m\n",
      "\u001b[0m\u001b[1mibmcpd_model.crossdeploy_mortgagemodelrf_D0A9BA80: Destruction complete after 3s\u001b[0m\n",
      "\u001b[0m\u001b[1m\u001b[32m\n",
      "Destroy complete! Resources: 1 destroyed.\n",
      "\u001b[0m"
     ]
    }
   ],
   "source": [
    "# flow.destroy()"
   ]
  }
 ],
 "metadata": {
  "kernelspec": {
   "display_name": "base",
   "language": "python",
   "name": "python3"
  },
  "language_info": {
   "codemirror_mode": {
    "name": "ipython",
    "version": 3
   },
   "file_extension": ".py",
   "mimetype": "text/x-python",
   "name": "python",
   "nbconvert_exporter": "python",
   "pygments_lexer": "ipython3",
   "version": "3.8.8 (default, Apr 13 2021, 15:08:03) [MSC v.1916 64 bit (AMD64)]"
  },
  "vscode": {
   "interpreter": {
    "hash": "e4cce46d6be9934fbd27f9ca0432556941ea5bdf741d4f4d64c6cd7f8dfa8fba"
   }
  }
 },
 "nbformat": 4,
 "nbformat_minor": 4
}
