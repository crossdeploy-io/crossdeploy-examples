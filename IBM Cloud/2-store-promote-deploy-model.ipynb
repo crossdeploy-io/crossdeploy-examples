{
 "cells": [
  {
   "cell_type": "code",
   "execution_count": 1,
   "metadata": {
    "id": "e305d706-8c0b-4bde-bc67-78bb24a87544",
    "tags": []
   },
   "outputs": [],
   "source": [
    "# Install the latest version of crossdeploy\n",
    "# ! pip install --upgrade crossdeploy\n",
    "\n",
    "# Node is installed by default in Watson Studio, JupyterLab and JupyterNotebook environments. \n",
    "# However, in case your environment does not have node installed, it can be installed with the below command.\n",
    "# ! pip install \"nodejs-bin[cmd]\""
   ]
  },
  {
   "cell_type": "markdown",
   "metadata": {
    "id": "7565206f-041d-4da2-83e0-8e413f6edb56"
   },
   "source": [
    "# Example 2: Build, promote and deploy a model\n",
    "\n",
    "In this example, we will build, promote and deploy a simple SKLearn pipeline model."
   ]
  },
  {
   "cell_type": "markdown",
   "metadata": {
    "id": "e65fbbc1-135d-4b87-a8eb-a74f1c4d9fa6"
   },
   "source": [
    "# Imports"
   ]
  },
  {
   "cell_type": "code",
   "execution_count": 2,
   "metadata": {
    "id": "96788d40-bb7b-4c01-be63-2dacc5032b2d",
    "tags": []
   },
   "outputs": [],
   "source": [
    "import pandas as pd\n",
    "\n",
    "from crossdeploy.utils import utils\n",
    "from crossdeploy.crossdeploy import CrossDeploy\n",
    "\n",
    "from sklearn.pipeline import Pipeline\n",
    "from sklearn.ensemble import RandomForestClassifier\n",
    "from sklearn.preprocessing import OneHotEncoder\n",
    "from sklearn.compose import make_column_selector, make_column_transformer\n",
    "\n",
    "import ibm_watson_machine_learning"
   ]
  },
  {
   "cell_type": "markdown",
   "metadata": {
    "id": "22e16462-70a9-4c71-89ec-d2cbc3dce52a"
   },
   "source": [
    "# Define variables"
   ]
  },
  {
   "cell_type": "code",
   "execution_count": 3,
   "metadata": {
    "id": "23da4c9a-bf87-452e-b6c9-0266f471cb10",
    "tags": []
   },
   "outputs": [],
   "source": [
    "CLOUD_API_KEY = \"xxx\"\n",
    "CLOUD_URL = \"https://us-south.ml.cloud.ibm.com\"\n",
    "PROJECT_ID = \"fc513094-926a-404b-9001-d15a03884123\"\n",
    "SPACE_ID = \"9dd079b6-b503-4c77-ae3a-d10bf6d8adae\"\n",
    "\n",
    "wml_credentials = {\"apikey\": CLOUD_API_KEY, \"url\": CLOUD_URL}\n",
    "wml_client = ibm_watson_machine_learning.APIClient(wml_credentials)"
   ]
  },
  {
   "cell_type": "markdown",
   "metadata": {
    "id": "d50a3619-c06e-4661-ac62-05db1a8f1cc2"
   },
   "source": [
    "# Import data and preprocessing step"
   ]
  },
  {
   "cell_type": "code",
   "execution_count": 4,
   "metadata": {
    "id": "3f487210-a0a4-42af-b9ad-e0d812b7cb4e",
    "tags": []
   },
   "outputs": [],
   "source": [
    "df = pd.read_csv(\"https://raw.githubusercontent.com/crossdeploy-io/crossdeploy-examples/main/data/mortgage-default.csv\")\n",
    "\n",
    "label_column = \"MortgageDefault\"\n",
    "y = df[label_column]\n",
    "X = df.drop(label_column, axis=1)\n",
    "\n",
    "ct = make_column_transformer(\n",
    "    (OneHotEncoder(), make_column_selector(dtype_include=object)),\n",
    "    remainder=\"passthrough\"\n",
    ")"
   ]
  },
  {
   "cell_type": "markdown",
   "metadata": {
    "id": "70cb481d-bc14-40a7-a578-dd0999eb81ee",
    "tags": []
   },
   "source": [
    "# Build model"
   ]
  },
  {
   "cell_type": "code",
   "execution_count": 5,
   "metadata": {
    "id": "c09f575c-483b-44c3-b25a-22e9fd1a5d09",
    "tags": []
   },
   "outputs": [
    {
     "data": {
      "text/plain": [
       "0.639618138424821"
      ]
     },
     "execution_count": 5,
     "metadata": {},
     "output_type": "execute_result"
    }
   ],
   "source": [
    "model = Pipeline(steps=[\n",
    "    (\"transform\", ct), \n",
    "    (\"clf\", RandomForestClassifier(n_estimators=3, max_depth=3, random_state=12345))\n",
    "])\n",
    "model.fit(X, y)\n",
    "model.score(X, y)"
   ]
  },
  {
   "cell_type": "markdown",
   "metadata": {
    "id": "4c8ab7f2-da52-4201-aa80-677bd9b6a341"
   },
   "source": [
    "# Save, promote and deploy model\n",
    "\n",
    "Making changes, `MODEL_NAME` or `DEPLOYMENT_NAME`, will result in an update as there is no material impact to the underlying asset.\n",
    "\n",
    "However, when the model is trained with new hyperparameters, this will result in destroy, the current version of the model and its promoted asset, creating and promoting a new model and updating the underlying asset of the existing deployment."
   ]
  },
  {
   "cell_type": "code",
   "execution_count": 6,
   "metadata": {
    "id": "81bc5b86-5d60-4ca3-aa0f-738408c7a7d9",
    "tags": []
   },
   "outputs": [
    {
     "name": "stdout",
     "output_type": "stream",
     "text": [
      "Applying ...\n",
      "\n",
      "Terraform used the selected providers to generate the following execution\n",
      "plan. Resource actions are indicated with the following symbols:\n",
      "  \u001b[32m+\u001b[0m create\n",
      "\u001b[0m\n",
      "Terraform will perform the following actions:\n",
      "\n",
      "\u001b[1m  # ibmcpd_deployment.crossdeploy_mortgagedeploymentrf_58AD9F47\u001b[0m will be created\u001b[0m\u001b[0m\n",
      "\u001b[0m  \u001b[32m+\u001b[0m\u001b[0m resource \"ibmcpd_deployment\" \"crossdeploy_mortgagedeploymentrf_58AD9F47\" {\n",
      "      \u001b[32m+\u001b[0m \u001b[0m\u001b[1m\u001b[0masset\u001b[0m\u001b[0m    = (known after apply)\n",
      "      \u001b[32m+\u001b[0m \u001b[0m\u001b[1m\u001b[0mid\u001b[0m\u001b[0m       = (known after apply)\n",
      "      \u001b[32m+\u001b[0m \u001b[0m\u001b[1m\u001b[0mname\u001b[0m\u001b[0m     = \"mortgage-model-rf\"\n",
      "      \u001b[32m+\u001b[0m \u001b[0m\u001b[1m\u001b[0monline\u001b[0m\u001b[0m   = true\n",
      "      \u001b[32m+\u001b[0m \u001b[0m\u001b[1m\u001b[0mspace_id\u001b[0m\u001b[0m = \"9dd079b6-b503-4c77-ae3a-d10bf6d8adae\"\n",
      "      \u001b[32m+\u001b[0m \u001b[0m\u001b[1m\u001b[0murl\u001b[0m\u001b[0m      = (known after apply)\n",
      "    }\n",
      "\n",
      "\u001b[1m  # ibmcpd_model.crossdeploy_mortgagemodelrf_D0A9BA80\u001b[0m will be created\u001b[0m\u001b[0m\n",
      "\u001b[0m  \u001b[32m+\u001b[0m\u001b[0m resource \"ibmcpd_model\" \"crossdeploy_mortgagemodelrf_D0A9BA80\" {\n",
      "      \u001b[32m+\u001b[0m \u001b[0m\u001b[1m\u001b[0mchecksum\u001b[0m\u001b[0m      = \"dfef315f632960684a95b017c32ea912\"\n",
      "      \u001b[32m+\u001b[0m \u001b[0m\u001b[1m\u001b[0mid\u001b[0m\u001b[0m            = (known after apply)\n",
      "      \u001b[32m+\u001b[0m \u001b[0m\u001b[1m\u001b[0mmodel_path\u001b[0m\u001b[0m    = \"dfef315f632960684a95b017c32ea912.tar.gz\"\n",
      "      \u001b[32m+\u001b[0m \u001b[0m\u001b[1m\u001b[0mname\u001b[0m\u001b[0m          = \"mortgage-model-rf\"\n",
      "      \u001b[32m+\u001b[0m \u001b[0m\u001b[1m\u001b[0mproject_id\u001b[0m\u001b[0m    = \"fc513094-926a-404b-9001-d15a03884123\"\n",
      "      \u001b[32m+\u001b[0m \u001b[0m\u001b[1m\u001b[0msoftware_spec\u001b[0m\u001b[0m = \"runtime-22.2-py3.10\"\n",
      "      \u001b[32m+\u001b[0m \u001b[0m\u001b[1m\u001b[0mtype\u001b[0m\u001b[0m          = \"scikit-learn_1.1\"\n",
      "    }\n",
      "\n",
      "\u001b[1m  # ibmcpd_model.crossdeploy_mortgagemodelrfpromoted_9850AEA8\u001b[0m will be created\u001b[0m\u001b[0m\n",
      "\u001b[0m  \u001b[32m+\u001b[0m\u001b[0m resource \"ibmcpd_model\" \"crossdeploy_mortgagemodelrfpromoted_9850AEA8\" {\n",
      "      \u001b[32m+\u001b[0m \u001b[0m\u001b[1m\u001b[0masset_id\u001b[0m\u001b[0m      = (known after apply)\n",
      "      \u001b[32m+\u001b[0m \u001b[0m\u001b[1m\u001b[0mid\u001b[0m\u001b[0m            = (known after apply)\n",
      "      \u001b[32m+\u001b[0m \u001b[0m\u001b[1m\u001b[0mmodel_path\u001b[0m\u001b[0m    = \"dfef315f632960684a95b017c32ea912.tar.gz\"\n",
      "      \u001b[32m+\u001b[0m \u001b[0m\u001b[1m\u001b[0mname\u001b[0m\u001b[0m          = \"mortgage-model-rf\"\n",
      "      \u001b[32m+\u001b[0m \u001b[0m\u001b[1m\u001b[0mproject_id\u001b[0m\u001b[0m    = \"fc513094-926a-404b-9001-d15a03884123\"\n",
      "      \u001b[32m+\u001b[0m \u001b[0m\u001b[1m\u001b[0msoftware_spec\u001b[0m\u001b[0m = \"runtime-22.2-py3.10\"\n",
      "      \u001b[32m+\u001b[0m \u001b[0m\u001b[1m\u001b[0mspace_id\u001b[0m\u001b[0m      = \"9dd079b6-b503-4c77-ae3a-d10bf6d8adae\"\n",
      "      \u001b[32m+\u001b[0m \u001b[0m\u001b[1m\u001b[0mtype\u001b[0m\u001b[0m          = \"scikit-learn_1.1\"\n",
      "    }\n",
      "\n",
      "\u001b[0m\u001b[1mPlan:\u001b[0m 3 to add, 0 to change, 0 to destroy.\n",
      "\u001b[0m\u001b[0m\u001b[1mibmcpd_model.crossdeploy_mortgagemodelrf_D0A9BA80: Creating...\u001b[0m\u001b[0m\n",
      "\u001b[0m\u001b[1mibmcpd_model.crossdeploy_mortgagemodelrf_D0A9BA80: Creation complete after 6s [id=be406a11-bc06-4cce-a8bc-1e9a84a70a97]\u001b[0m\n",
      "\u001b[0m\u001b[1mibmcpd_model.crossdeploy_mortgagemodelrfpromoted_9850AEA8: Creating...\u001b[0m\u001b[0m\n",
      "\u001b[0m\u001b[1mibmcpd_model.crossdeploy_mortgagemodelrfpromoted_9850AEA8: Creation complete after 7s [id=eabcdf7a-269e-47b3-b684-e9af09ed824f]\u001b[0m\n",
      "\u001b[0m\u001b[1mibmcpd_deployment.crossdeploy_mortgagedeploymentrf_58AD9F47: Creating...\u001b[0m\u001b[0m\n",
      "\u001b[0m\u001b[1mibmcpd_deployment.crossdeploy_mortgagedeploymentrf_58AD9F47: Creation complete after 1s [id=17684c17-bd79-4d58-9fed-fef092e91620]\u001b[0m\n",
      "\u001b[0m\u001b[1m\u001b[32m\n",
      "Apply complete! Resources: 3 added, 0 changed, 0 destroyed.\n",
      "\u001b[0m\n",
      "Deployment ID: 17684c17-bd79-4d58-9fed-fef092e91620\n"
     ]
    }
   ],
   "source": [
    "MODEL_NAME = \"mortgage-model-rf\"\n",
    "DEPLOYMENT_NAME = \"mortgage-model-rf\"\n",
    "\n",
    "flow = CrossDeploy()\n",
    "\n",
    "flow.ibm.Provider(url=CLOUD_URL, api_key=CLOUD_API_KEY)\n",
    "\n",
    "model_rf = flow.ibm.Model(model)(\n",
    "    id = \"mortgage-model-rf\",\n",
    "    name = MODEL_NAME,\n",
    "    project_id = PROJECT_ID,\n",
    ")\n",
    "\n",
    "promoted_model_rf = flow.ibm.PromotedModel(model_rf)(\n",
    "    id = \"mortgage-model-rf-promoted\",\n",
    "    project_id = PROJECT_ID,\n",
    "    space_id = SPACE_ID,\n",
    "    asset_id = model_rf.id,\n",
    ")\n",
    "\n",
    "deployment = flow.ibm.Deployment(\n",
    "    id = \"mortgage-deployment-rf\",\n",
    "    name = DEPLOYMENT_NAME,\n",
    "    space_id = SPACE_ID,\n",
    "    asset = promoted_model_rf.id,\n",
    "    online = True,\n",
    ")\n",
    "\n",
    "flow.apply()\n",
    "\n",
    "deployment_state = utils.get_resource_by_name(deployment.friendly_unique_id)\n",
    "\n",
    "print()\n",
    "print(f\"Deployment ID: {deployment_state['id']}\")"
   ]
  },
  {
   "cell_type": "markdown",
   "metadata": {
    "id": "c096e325-ffbc-4d47-a270-b2ee39a02f97"
   },
   "source": [
    "# Score model"
   ]
  },
  {
   "cell_type": "code",
   "execution_count": 7,
   "metadata": {
    "id": "8aeb8aad-c896-4536-9423-252b4ec44ae2",
    "tags": []
   },
   "outputs": [
    {
     "data": {
      "text/plain": [
       "{'predictions': [{'fields': ['prediction', 'probability'],\n",
       "   'values': [['NO', [0.6, 0.39999999999999997]],\n",
       "    ['NO', [0.5571018651362984, 0.44289813486370155]],\n",
       "    ['NO', [0.5571018651362984, 0.44289813486370155]],\n",
       "    ['YES', [0.49884053889123603, 0.5011594611087641]],\n",
       "    ['NO', [0.6430252100840336, 0.3569747899159664]]]}]}"
      ]
     },
     "execution_count": 7,
     "metadata": {},
     "output_type": "execute_result"
    }
   ],
   "source": [
    "wml_client.set.default_space(SPACE_ID)\n",
    "\n",
    "deployment_state = utils.get_resource_by_name(deployment.friendly_unique_id)\n",
    "\n",
    "deployment_id = deployment_state[\"id\"]\n",
    "\n",
    "payload = {\"input_data\": [{\"values\": X.head()}]}\n",
    "\n",
    "wml_client.deployments.score(deployment_id, payload)\n"
   ]
  },
  {
   "cell_type": "markdown",
   "metadata": {
    "id": "0ff65b6a-3c68-4608-a848-1501f029da61"
   },
   "source": [
    "# Clean up"
   ]
  },
  {
   "cell_type": "code",
   "execution_count": 9,
   "metadata": {
    "id": "bfb04b8f-9487-403d-866c-4d80b867fbf6",
    "tags": []
   },
   "outputs": [
    {
     "name": "stdout",
     "output_type": "stream",
     "text": [
      "Destroying ...\n",
      "\u001b[0m\u001b[1mibmcpd_model.crossdeploy_mortgagemodelrf_D0A9BA80: Refreshing state... [id=be406a11-bc06-4cce-a8bc-1e9a84a70a97]\u001b[0m\n",
      "\u001b[0m\u001b[1mibmcpd_model.crossdeploy_mortgagemodelrfpromoted_9850AEA8: Refreshing state... [id=eabcdf7a-269e-47b3-b684-e9af09ed824f]\u001b[0m\n",
      "\u001b[0m\u001b[1mibmcpd_deployment.crossdeploy_mortgagedeploymentrf_58AD9F47: Refreshing state... [id=17684c17-bd79-4d58-9fed-fef092e91620]\u001b[0m\n",
      "\n",
      "Terraform used the selected providers to generate the following execution\n",
      "plan. Resource actions are indicated with the following symbols:\n",
      "  \u001b[31m-\u001b[0m destroy\n",
      "\u001b[0m\n",
      "Terraform will perform the following actions:\n",
      "\n",
      "\u001b[1m  # ibmcpd_deployment.crossdeploy_mortgagedeploymentrf_58AD9F47\u001b[0m will be \u001b[1m\u001b[31mdestroyed\u001b[0m\u001b[0m\n",
      "\u001b[0m  \u001b[31m-\u001b[0m\u001b[0m resource \"ibmcpd_deployment\" \"crossdeploy_mortgagedeploymentrf_58AD9F47\" {\n",
      "      \u001b[31m-\u001b[0m \u001b[0m\u001b[1m\u001b[0masset\u001b[0m\u001b[0m    = \"eabcdf7a-269e-47b3-b684-e9af09ed824f\" \u001b[90m->\u001b[0m \u001b[0m\u001b[90mnull\u001b[0m\u001b[0m\n",
      "      \u001b[31m-\u001b[0m \u001b[0m\u001b[1m\u001b[0mid\u001b[0m\u001b[0m       = \"17684c17-bd79-4d58-9fed-fef092e91620\" \u001b[90m->\u001b[0m \u001b[0m\u001b[90mnull\u001b[0m\u001b[0m\n",
      "      \u001b[31m-\u001b[0m \u001b[0m\u001b[1m\u001b[0mname\u001b[0m\u001b[0m     = \"mortgage-model-rf\" \u001b[90m->\u001b[0m \u001b[0m\u001b[90mnull\u001b[0m\u001b[0m\n",
      "      \u001b[31m-\u001b[0m \u001b[0m\u001b[1m\u001b[0monline\u001b[0m\u001b[0m   = true \u001b[90m->\u001b[0m \u001b[0m\u001b[90mnull\u001b[0m\u001b[0m\n",
      "      \u001b[31m-\u001b[0m \u001b[0m\u001b[1m\u001b[0mspace_id\u001b[0m\u001b[0m = \"9dd079b6-b503-4c77-ae3a-d10bf6d8adae\" \u001b[90m->\u001b[0m \u001b[0m\u001b[90mnull\u001b[0m\u001b[0m\n",
      "      \u001b[31m-\u001b[0m \u001b[0m\u001b[1m\u001b[0murl\u001b[0m\u001b[0m      = \"https://us-south.ml.cloud.ibm.com/ml/v4/deployments/17684c17-bd79-4d58-9fed-fef092e91620/predictions\" \u001b[90m->\u001b[0m \u001b[0m\u001b[90mnull\u001b[0m\u001b[0m\n",
      "    }\n",
      "\n",
      "\u001b[1m  # ibmcpd_model.crossdeploy_mortgagemodelrf_D0A9BA80\u001b[0m will be \u001b[1m\u001b[31mdestroyed\u001b[0m\u001b[0m\n",
      "\u001b[0m  \u001b[31m-\u001b[0m\u001b[0m resource \"ibmcpd_model\" \"crossdeploy_mortgagemodelrf_D0A9BA80\" {\n",
      "      \u001b[31m-\u001b[0m \u001b[0m\u001b[1m\u001b[0mchecksum\u001b[0m\u001b[0m      = \"dfef315f632960684a95b017c32ea912\" \u001b[90m->\u001b[0m \u001b[0m\u001b[90mnull\u001b[0m\u001b[0m\n",
      "      \u001b[31m-\u001b[0m \u001b[0m\u001b[1m\u001b[0mid\u001b[0m\u001b[0m            = \"be406a11-bc06-4cce-a8bc-1e9a84a70a97\" \u001b[90m->\u001b[0m \u001b[0m\u001b[90mnull\u001b[0m\u001b[0m\n",
      "      \u001b[31m-\u001b[0m \u001b[0m\u001b[1m\u001b[0mmodel_path\u001b[0m\u001b[0m    = \"dfef315f632960684a95b017c32ea912.tar.gz\" \u001b[90m->\u001b[0m \u001b[0m\u001b[90mnull\u001b[0m\u001b[0m\n",
      "      \u001b[31m-\u001b[0m \u001b[0m\u001b[1m\u001b[0mname\u001b[0m\u001b[0m          = \"mortgage-model-rf\" \u001b[90m->\u001b[0m \u001b[0m\u001b[90mnull\u001b[0m\u001b[0m\n",
      "      \u001b[31m-\u001b[0m \u001b[0m\u001b[1m\u001b[0mproject_id\u001b[0m\u001b[0m    = \"fc513094-926a-404b-9001-d15a03884123\" \u001b[90m->\u001b[0m \u001b[0m\u001b[90mnull\u001b[0m\u001b[0m\n",
      "      \u001b[31m-\u001b[0m \u001b[0m\u001b[1m\u001b[0msoftware_spec\u001b[0m\u001b[0m = \"runtime-22.2-py3.10\" \u001b[90m->\u001b[0m \u001b[0m\u001b[90mnull\u001b[0m\u001b[0m\n",
      "      \u001b[31m-\u001b[0m \u001b[0m\u001b[1m\u001b[0mtype\u001b[0m\u001b[0m          = \"scikit-learn_1.1\" \u001b[90m->\u001b[0m \u001b[0m\u001b[90mnull\u001b[0m\u001b[0m\n",
      "    }\n",
      "\n",
      "\u001b[1m  # ibmcpd_model.crossdeploy_mortgagemodelrfpromoted_9850AEA8\u001b[0m will be \u001b[1m\u001b[31mdestroyed\u001b[0m\u001b[0m\n",
      "\u001b[0m  \u001b[31m-\u001b[0m\u001b[0m resource \"ibmcpd_model\" \"crossdeploy_mortgagemodelrfpromoted_9850AEA8\" {\n",
      "      \u001b[31m-\u001b[0m \u001b[0m\u001b[1m\u001b[0masset_id\u001b[0m\u001b[0m      = \"be406a11-bc06-4cce-a8bc-1e9a84a70a97\" \u001b[90m->\u001b[0m \u001b[0m\u001b[90mnull\u001b[0m\u001b[0m\n",
      "      \u001b[31m-\u001b[0m \u001b[0m\u001b[1m\u001b[0mid\u001b[0m\u001b[0m            = \"eabcdf7a-269e-47b3-b684-e9af09ed824f\" \u001b[90m->\u001b[0m \u001b[0m\u001b[90mnull\u001b[0m\u001b[0m\n",
      "      \u001b[31m-\u001b[0m \u001b[0m\u001b[1m\u001b[0mmodel_path\u001b[0m\u001b[0m    = \"dfef315f632960684a95b017c32ea912.tar.gz\" \u001b[90m->\u001b[0m \u001b[0m\u001b[90mnull\u001b[0m\u001b[0m\n",
      "      \u001b[31m-\u001b[0m \u001b[0m\u001b[1m\u001b[0mname\u001b[0m\u001b[0m          = \"mortgage-model-rf\" \u001b[90m->\u001b[0m \u001b[0m\u001b[90mnull\u001b[0m\u001b[0m\n",
      "      \u001b[31m-\u001b[0m \u001b[0m\u001b[1m\u001b[0mproject_id\u001b[0m\u001b[0m    = \"fc513094-926a-404b-9001-d15a03884123\" \u001b[90m->\u001b[0m \u001b[0m\u001b[90mnull\u001b[0m\u001b[0m\n",
      "      \u001b[31m-\u001b[0m \u001b[0m\u001b[1m\u001b[0msoftware_spec\u001b[0m\u001b[0m = \"runtime-22.2-py3.10\" \u001b[90m->\u001b[0m \u001b[0m\u001b[90mnull\u001b[0m\u001b[0m\n",
      "      \u001b[31m-\u001b[0m \u001b[0m\u001b[1m\u001b[0mspace_id\u001b[0m\u001b[0m      = \"9dd079b6-b503-4c77-ae3a-d10bf6d8adae\" \u001b[90m->\u001b[0m \u001b[0m\u001b[90mnull\u001b[0m\u001b[0m\n",
      "      \u001b[31m-\u001b[0m \u001b[0m\u001b[1m\u001b[0mtype\u001b[0m\u001b[0m          = \"scikit-learn_1.1\" \u001b[90m->\u001b[0m \u001b[0m\u001b[90mnull\u001b[0m\u001b[0m\n",
      "    }\n",
      "\n",
      "\u001b[0m\u001b[1mPlan:\u001b[0m 0 to add, 0 to change, 3 to destroy.\n",
      "\u001b[0m\u001b[0m\u001b[1mibmcpd_deployment.crossdeploy_mortgagedeploymentrf_58AD9F47: Destroying... [id=17684c17-bd79-4d58-9fed-fef092e91620]\u001b[0m\u001b[0m\n",
      "\u001b[0m\u001b[1mibmcpd_deployment.crossdeploy_mortgagedeploymentrf_58AD9F47: Destruction complete after 2s\u001b[0m\n",
      "\u001b[0m\u001b[1mibmcpd_model.crossdeploy_mortgagemodelrfpromoted_9850AEA8: Destroying... [id=eabcdf7a-269e-47b3-b684-e9af09ed824f]\u001b[0m\u001b[0m\n",
      "\u001b[0m\u001b[1mibmcpd_model.crossdeploy_mortgagemodelrfpromoted_9850AEA8: Destruction complete after 1s\u001b[0m\n",
      "\u001b[0m\u001b[1mibmcpd_model.crossdeploy_mortgagemodelrf_D0A9BA80: Destroying... [id=be406a11-bc06-4cce-a8bc-1e9a84a70a97]\u001b[0m\u001b[0m\n",
      "\u001b[0m\u001b[1mibmcpd_model.crossdeploy_mortgagemodelrf_D0A9BA80: Destruction complete after 2s\u001b[0m\n",
      "\u001b[0m\u001b[1m\u001b[32m\n",
      "Destroy complete! Resources: 3 destroyed.\n",
      "\u001b[0m"
     ]
    }
   ],
   "source": [
    "# flow.destroy()"
   ]
  }
 ],
 "metadata": {
  "kernelspec": {
   "display_name": "base",
   "language": "python",
   "name": "python3"
  },
  "language_info": {
   "codemirror_mode": {
    "name": "ipython",
    "version": 3
   },
   "file_extension": ".py",
   "mimetype": "text/x-python",
   "name": "python",
   "nbconvert_exporter": "python",
   "pygments_lexer": "ipython3",
   "version": "3.8.8 (default, Apr 13 2021, 15:08:03) [MSC v.1916 64 bit (AMD64)]"
  },
  "vscode": {
   "interpreter": {
    "hash": "e4cce46d6be9934fbd27f9ca0432556941ea5bdf741d4f4d64c6cd7f8dfa8fba"
   }
  }
 },
 "nbformat": 4,
 "nbformat_minor": 4
}
