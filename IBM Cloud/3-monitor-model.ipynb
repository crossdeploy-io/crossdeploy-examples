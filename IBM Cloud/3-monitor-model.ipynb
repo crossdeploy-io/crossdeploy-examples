{
 "cells": [
  {
   "cell_type": "code",
   "execution_count": 3,
   "metadata": {
    "id": "e305d706-8c0b-4bde-bc67-78bb24a87544",
    "tags": []
   },
   "outputs": [
    {
     "name": "stdout",
     "output_type": "stream",
     "text": [
      "Requirement already satisfied: crossdeploy in /opt/conda/envs/Python-3.10-Premium/lib/python3.10/site-packages (0.1.8)\n",
      "Requirement already satisfied: constructs in /opt/conda/envs/Python-3.10-Premium/lib/python3.10/site-packages (from crossdeploy) (10.1.221)\n",
      "Requirement already satisfied: jsii in /opt/conda/envs/Python-3.10-Premium/lib/python3.10/site-packages (from crossdeploy) (1.73.0)\n",
      "Requirement already satisfied: publication>=0.0.3 in /opt/conda/envs/Python-3.10-Premium/lib/python3.10/site-packages (from constructs->crossdeploy) (0.0.3)\n",
      "Requirement already satisfied: typeguard~=2.13.3 in /opt/conda/envs/Python-3.10-Premium/lib/python3.10/site-packages (from constructs->crossdeploy) (2.13.3)\n",
      "Requirement already satisfied: typing-extensions<5.0,>=3.7 in /opt/conda/envs/Python-3.10-Premium/lib/python3.10/site-packages (from jsii->crossdeploy) (4.3.0)\n",
      "Requirement already satisfied: cattrs<22.3,>=1.8 in /opt/conda/envs/Python-3.10-Premium/lib/python3.10/site-packages (from jsii->crossdeploy) (22.2.0)\n",
      "Requirement already satisfied: python-dateutil in /opt/conda/envs/Python-3.10-Premium/lib/python3.10/site-packages (from jsii->crossdeploy) (2.8.2)\n",
      "Requirement already satisfied: attrs<23.0,>=21.2 in /opt/conda/envs/Python-3.10-Premium/lib/python3.10/site-packages (from jsii->crossdeploy) (21.4.0)\n",
      "Requirement already satisfied: exceptiongroup in /opt/conda/envs/Python-3.10-Premium/lib/python3.10/site-packages (from cattrs<22.3,>=1.8->jsii->crossdeploy) (1.1.0)\n",
      "Requirement already satisfied: six>=1.5 in /opt/conda/envs/Python-3.10-Premium/lib/python3.10/site-packages (from python-dateutil->jsii->crossdeploy) (1.16.0)\n"
     ]
    }
   ],
   "source": [
    "# Install the latest version of crossdeploy\n",
    "! pip install --upgrade crossdeploy\n",
    "\n",
    "# Node is installed by default in Watson Studio, JupyterLab and JupyterNotebook environments. \n",
    "# However, in case your environment does not have node installed, it can be installed with the below command.\n",
    "# ! pip install \"nodejs-bin[cmd]\""
   ]
  },
  {
   "cell_type": "markdown",
   "metadata": {
    "id": "7565206f-041d-4da2-83e0-8e413f6edb56"
   },
   "source": [
    "# Example 3: Build, promote, deploy and monitor a model\n",
    "\n",
    "In this example, we will build, promote, deploy and monitor a simple SKLearn pipeline model."
   ]
  },
  {
   "cell_type": "markdown",
   "metadata": {
    "id": "e65fbbc1-135d-4b87-a8eb-a74f1c4d9fa6"
   },
   "source": [
    "# Imports"
   ]
  },
  {
   "cell_type": "code",
   "execution_count": 4,
   "metadata": {
    "id": "96788d40-bb7b-4c01-be63-2dacc5032b2d",
    "tags": []
   },
   "outputs": [],
   "source": [
    "import io\n",
    "import requests\n",
    "import dataclasses\n",
    "import pandas as pd\n",
    "\n",
    "from crossdeploy.utils import utils\n",
    "from crossdeploy.crossdeploy import CrossDeploy\n",
    "\n",
    "from sklearn.pipeline import Pipeline\n",
    "from sklearn.ensemble import RandomForestClassifier\n",
    "from sklearn.preprocessing import OneHotEncoder\n",
    "from sklearn.compose import make_column_selector, make_column_transformer\n",
    "\n",
    "import ibm_watson_openscale\n",
    "import ibm_watson_machine_learning\n",
    "from ibm_cloud_sdk_core.authenticators import IAMAuthenticator"
   ]
  },
  {
   "cell_type": "markdown",
   "metadata": {
    "id": "22e16462-70a9-4c71-89ec-d2cbc3dce52a"
   },
   "source": [
    "# Define variables"
   ]
  },
  {
   "cell_type": "code",
   "execution_count": 5,
   "metadata": {
    "id": "23da4c9a-bf87-452e-b6c9-0266f471cb10",
    "tags": []
   },
   "outputs": [],
   "source": [
    "CLOUD_API_KEY = \"xxx\"\n",
    "CLOUD_URL = \"https://us-south.ml.cloud.ibm.com\"\n",
    "COS_API_KEY = \"2AAnWqaNX0hF5lpOwLIGJ959chpR3RVmJxdeHFcWa_jD\"\n",
    "PROJECT_ID = \"fc513094-926a-404b-9001-d15a03884123\"\n",
    "SPACE_ID = \"9dd079b6-b503-4c77-ae3a-d10bf6d8adae\"\n",
    "DATA_MART_ID = \"0adabc21-cf18-48c0-a36c-f7e3f3b092e8\"\n",
    "\n",
    "wml_credentials = {\"apikey\": CLOUD_API_KEY, \"url\": CLOUD_URL}\n",
    "wml_client = ibm_watson_machine_learning.APIClient(wml_credentials)\n",
    "wos_client = ibm_watson_openscale.APIClient(authenticator=IAMAuthenticator(apikey=CLOUD_API_KEY))"
   ]
  },
  {
   "cell_type": "markdown",
   "metadata": {
    "id": "87cb4d1e-5370-49ee-aa4f-d9cef9901309"
   },
   "source": [
    "# Ensure that you have created a data mart in Watson OpenScale"
   ]
  },
  {
   "cell_type": "code",
   "execution_count": 6,
   "metadata": {
    "id": "4c667ccd-d339-48c5-b107-ff1b44c7f867",
    "tags": []
   },
   "outputs": [
    {
     "data": {
      "text/html": [
       "<HTML>\n",
       "        <body>\n",
       "            <h3>Data Marts</h3>\n",
       "            <table style='border: 1px solid #dddddd; font-family: Courier'>\n",
       "                <th style='border: 1px solid #dddddd'>name</th><th style='border: 1px solid #dddddd'>description</th><th style='border: 1px solid #dddddd'>internal_database</th><th style='border: 1px solid #dddddd'>status</th><th style='border: 1px solid #dddddd'>created_at</th><th style='border: 1px solid #dddddd'>id</th>\n",
       "                <tr><td style='border: 1px solid #dddddd'>None</td><td style='border: 1px solid #dddddd'>None</td><td style='border: 1px solid #dddddd'>True</td><td style='border: 1px solid #dddddd'>active</td><td style='border: 1px solid #dddddd'>2022-02-14 18:02:13.502000+00:00</td><td style='border: 1px solid #dddddd'>0adabc21-cf18-48c0-a36c-f7e3f3b092e8</td></tr>\n",
       "            </table>\n",
       "        </body>\n",
       "        </HTML>"
      ],
      "text/plain": [
       "<IPython.core.display.HTML object>"
      ]
     },
     "metadata": {},
     "output_type": "display_data"
    }
   ],
   "source": [
    "wos_client.data_marts.show()\n",
    "# wos_client.service_providers.show()\n",
    "# wos_client.subscriptions.show()\n",
    "# wos_client.monitor_instances.show()\n",
    "# wos_client.monitor_instances.get(\"96efa40a-5175-440e-b138-3d83a2ff195c\").result._to_dict()"
   ]
  },
  {
   "cell_type": "markdown",
   "metadata": {
    "id": "81b41dfa-2e9d-418a-a615-cdd21cbc8afb"
   },
   "source": [
    "# Define DATA_MART_ID"
   ]
  },
  {
   "cell_type": "code",
   "execution_count": 7,
   "metadata": {
    "id": "736e867e-c024-4782-8114-9a519aa1579c",
    "tags": []
   },
   "outputs": [],
   "source": [
    "DATA_MART_ID = \"0adabc21-cf18-48c0-a36c-f7e3f3b092e8\""
   ]
  },
  {
   "cell_type": "markdown",
   "metadata": {
    "id": "4c8ab7f2-da52-4201-aa80-677bd9b6a341"
   },
   "source": [
    "# Save, promote, deploy and monitor model"
   ]
  },
  {
   "cell_type": "markdown",
   "metadata": {
    "id": "d93c01c6-aaf8-40e0-9d9f-56f5794f1fd0"
   },
   "source": [
    "## Model monitoring template\n",
    "\n",
    "It consists of,\n",
    "\n",
    "- storing a model in a project\n",
    "- promoting the model to a deployment space\n",
    "- creating a deployment\n",
    "- creating a service provider\n",
    "- creating a subscription\n",
    "- creating monitors such as, quality, drift, fairness and explainability\n",
    "\n",
    "Any updates or modifications to the `config` dictionary, will result in the appropriate actions, such update or delete and create, for the respectively resources."
   ]
  },
  {
   "cell_type": "code",
   "execution_count": 8,
   "metadata": {
    "id": "bf5b59b2-0755-4a42-ab86-df73133387c9",
    "tags": []
   },
   "outputs": [],
   "source": [
    "class ModelMonitor:\n",
    "    def __init__(self, config):\n",
    "        PROVIDER_CONFIG = config[\"provider\"]\n",
    "        MODEL_CONFIG = config[\"model\"]\n",
    "        DEPLOYMENT_CONFIG = config[\"deployment\"]\n",
    "\n",
    "        flow = CrossDeploy()\n",
    "\n",
    "        flow.ibm.Provider(**PROVIDER_CONFIG)\n",
    "\n",
    "        model_rf = flow.ibm.Model(MODEL_CONFIG[\"model\"])(\n",
    "            id = \"mortgage-model-1\",\n",
    "            name = MODEL_CONFIG[\"name\"],\n",
    "            project_id = MODEL_CONFIG[\"project_id\"],\n",
    "        )\n",
    "\n",
    "        promoted_model_rf = flow.ibm.PromotedModel(model_rf)(\n",
    "            id = \"promoted-model-1\",\n",
    "            project_id = MODEL_CONFIG[\"project_id\"],\n",
    "            space_id = DEPLOYMENT_CONFIG[\"space_id\"],\n",
    "            asset_id = model_rf.id,\n",
    "        )\n",
    "\n",
    "        deployment = flow.ibm.Deployment(\n",
    "            id = \"deployment-1\",\n",
    "            name = DEPLOYMENT_CONFIG[\"name\"],\n",
    "            space_id = DEPLOYMENT_CONFIG[\"space_id\"],\n",
    "            asset = promoted_model_rf.id,\n",
    "            online = DEPLOYMENT_CONFIG[\"online\"],\n",
    "        )\n",
    "\n",
    "        if \"service_provider\" in config:\n",
    "            SERVICE_PROVIDER = config[\"service_provider\"]\n",
    "            service_provider = flow.ibm.ServiceProvider(\n",
    "                id = \"service-provider-1\",\n",
    "                name = SERVICE_PROVIDER[\"name\"],\n",
    "                service_type = SERVICE_PROVIDER[\"service_type\"],\n",
    "                operational_space_id = SERVICE_PROVIDER[\"operational_space_id\"],\n",
    "                deployment_space_id = DEPLOYMENT_CONFIG[\"space_id\"],\n",
    "                url = PROVIDER_CONFIG[\"url\"],\n",
    "                api_key = PROVIDER_CONFIG[\"api_key\"],\n",
    "            )\n",
    "\n",
    "            if \"subscription\" in config:\n",
    "                SUBSCRIPTION = config[\"subscription\"]\n",
    "                COS_DATA_REFERENCE = config[\"cos_data_reference\"]\n",
    "                subscription = flow.ibm.Subscription(\n",
    "                    id = \"subscription-1\",\n",
    "                    name = SUBSCRIPTION[\"name\"],\n",
    "                    data_mart_id = SUBSCRIPTION[\"data_mart_id\"],\n",
    "                    service_provider_id = service_provider.id,\n",
    "                    asset = flow.ibm.SubscriptionAsset(\n",
    "                        asset_id = promoted_model_rf.id,\n",
    "                        asset_type = SUBSCRIPTION[\"asset_type\"],\n",
    "                        input_data_type = SUBSCRIPTION[\"input_data_type\"],\n",
    "                        problem_type = SUBSCRIPTION[\"problem_type\"],\n",
    "                        url = deployment.url,\n",
    "                    ),\n",
    "                    deployment = flow.ibm.SubscriptionDeployment(\n",
    "                        deployment_id = deployment.id,\n",
    "                        deployment_type = \"online\" if DEPLOYMENT_CONFIG[\"online\"] else None,\n",
    "                        deployment_url = deployment.url,\n",
    "                    ),\n",
    "                    asset_properties = flow.ibm.SubscriptionAssetProperties(**SUBSCRIPTION[\"asset_properties\"]),\n",
    "                    training_data_schema = flow.ibm.get_training_data_schema(utils.get_training_data_schema(X)),\n",
    "                    training_data_reference = flow.ibm.SubscriptionTrainingDataReference(**COS_DATA_REFERENCE),\n",
    "                    payload_file = utils.export_payload_data(X),\n",
    "                )\n",
    "\n",
    "                if \"monitors\" in config:\n",
    "                    MONITORS_CONFIG = config[\"monitors\"]\n",
    "                    if \"quality\" in MONITORS_CONFIG:\n",
    "                        quality_monitor = flow.ibm.MonitorInstance(\n",
    "                            id = \"quality_monitor\",\n",
    "                            data_mart_id = DATA_MART_ID,\n",
    "                            monitor_definition_id = \"quality\",\n",
    "                            subscription_id = subscription.id,\n",
    "                            parameters = flow.ibm.MonitorInstanceParameters(min_feedback_data_size = MONITORS_CONFIG[\"quality\"][\"min_feedback_data_size\"]),\n",
    "                            thresholds = flow.ibm.get_monitor_instance_thresholds(MONITORS_CONFIG[\"quality\"][\"thresholds\"]),\n",
    "                        )\n",
    "                        flow.ibm.Record(\n",
    "                            id = \"feedback_record\",\n",
    "                            subscription_id = subscription.id,\n",
    "                            type = \"feedback\",\n",
    "                            file_path = utils.export_feedback_data(df),\n",
    "                            depends_on = [quality_monitor],\n",
    "                        )\n",
    "\n",
    "                    if \"drift\" in MONITORS_CONFIG:\n",
    "                        flow.ibm.MonitorInstance(\n",
    "                            id = \"drift_monitor\",\n",
    "                            data_mart_id = DATA_MART_ID,\n",
    "                            monitor_definition_id = \"drift\",\n",
    "                            subscription_id = subscription.id,\n",
    "                            parameters = flow.ibm.MonitorInstanceParameters(**MONITORS_CONFIG[\"drift\"][\"parameters\"]),\n",
    "                        )\n",
    "\n",
    "                    if \"fairness\" in MONITORS_CONFIG:\n",
    "                        flow.ibm.MonitorInstance(\n",
    "                            id = \"fairness_monitor\",\n",
    "                            data_mart_id = DATA_MART_ID,\n",
    "                            monitor_definition_id = \"fairness\",\n",
    "                            subscription_id = subscription.id,\n",
    "                            parameters = flow.ibm.MonitorInstanceParameters(\n",
    "                                favourable_class = MONITORS_CONFIG[\"fairness\"][\"favourable_class\"],\n",
    "                                unfavourable_class = MONITORS_CONFIG[\"fairness\"][\"unfavourable_class\"],\n",
    "                                min_records = MONITORS_CONFIG[\"fairness\"][\"min_records\"],\n",
    "                                features = flow.ibm.get_monitor_instance_parameters_features(MONITORS_CONFIG[\"fairness\"][\"features\"]),\n",
    "                            ),\n",
    "                            thresholds = flow.ibm.get_monitor_instance_thresholds(MONITORS_CONFIG[\"fairness\"][\"thresholds\"]),\n",
    "                        )\n",
    "\n",
    "                    if \"explainability\" in MONITORS_CONFIG:\n",
    "                        flow.ibm.MonitorInstance(\n",
    "                            id = \"explainability_monitor\",\n",
    "                            data_mart_id = DATA_MART_ID,\n",
    "                            monitor_definition_id = \"explainability\",\n",
    "                            subscription_id = subscription.id,\n",
    "                            parameters = flow.ibm.MonitorInstanceParameters(\n",
    "                                enabled = True\n",
    "                            )\n",
    "                        )\n",
    "\n",
    "                    self.mrm_monitor = flow.ibm.MonitorInstance(\n",
    "                        id = \"mrm_monitor\",\n",
    "                        data_mart_id = DATA_MART_ID,\n",
    "                        monitor_definition_id = \"mrm\",\n",
    "                        subscription_id = subscription.id,\n",
    "                    )\n",
    "\n",
    "        self.flow = flow\n",
    "\n",
    "    def apply(self):\n",
    "        self.flow.apply()\n",
    "\n",
    "    def destroy(self):\n",
    "        self.flow.destroy()\n"
   ]
  },
  {
   "cell_type": "markdown",
   "metadata": {
    "id": "d50a3619-c06e-4661-ac62-05db1a8f1cc2"
   },
   "source": [
    "## Import data and preprocessing step"
   ]
  },
  {
   "cell_type": "code",
   "execution_count": 9,
   "metadata": {
    "id": "3f487210-a0a4-42af-b9ad-e0d812b7cb4e",
    "tags": []
   },
   "outputs": [],
   "source": [
    "df = pd.read_csv(\"https://raw.githubusercontent.com/crossdeploy-io/crossdeploy-examples/main/data/mortgage-default.csv\")\n",
    "\n",
    "label_column = \"MortgageDefault\"\n",
    "y = df[label_column]\n",
    "X = df.drop(label_column, axis=1)\n",
    "\n",
    "ct = make_column_transformer(\n",
    "    (OneHotEncoder(), make_column_selector(dtype_include=object)),\n",
    "    remainder=\"passthrough\"\n",
    ")"
   ]
  },
  {
   "cell_type": "markdown",
   "metadata": {
    "id": "70cb481d-bc14-40a7-a578-dd0999eb81ee",
    "tags": []
   },
   "source": [
    "## Build model"
   ]
  },
  {
   "cell_type": "code",
   "execution_count": 10,
   "metadata": {
    "id": "c09f575c-483b-44c3-b25a-22e9fd1a5d09",
    "tags": []
   },
   "outputs": [
    {
     "data": {
      "text/plain": [
       "0.9618138424821002"
      ]
     },
     "execution_count": 10,
     "metadata": {},
     "output_type": "execute_result"
    }
   ],
   "source": [
    "model = Pipeline(steps=[\n",
    "    (\"transform\", ct), \n",
    "    (\"clf\", RandomForestClassifier(n_estimators=3, max_depth=30, random_state=12345))\n",
    "])\n",
    "model.fit(X, y)\n",
    "model.score(X, y)"
   ]
  },
  {
   "cell_type": "markdown",
   "metadata": {
    "id": "406dabcc-84e0-45a6-a196-af897c5cdbe2"
   },
   "source": [
    "## Model monitoring configuration"
   ]
  },
  {
   "cell_type": "code",
   "execution_count": 14,
   "metadata": {
    "id": "46cad0f6-d586-4efc-8aca-77cc2478b144",
    "tags": []
   },
   "outputs": [
    {
     "name": "stdout",
     "output_type": "stream",
     "text": [
      "Applying ...\n",
      "\n",
      "\u001b[0m\u001b[1mInitializing the backend...\u001b[0m\n",
      "\n",
      "\u001b[0m\u001b[1mInitializing provider plugins...\u001b[0m\n",
      "- Finding randyphoa/ibmcpd versions matching \"0.1.14\"...\n",
      "- Installing randyphoa/ibmcpd v0.1.14...\n",
      "- Installed randyphoa/ibmcpd v0.1.14 (self-signed, key ID \u001b[0m\u001b[1m0C4FF2867393F57F\u001b[0m\u001b[0m)\n",
      "\n",
      "Partner and community providers are signed by their developers.\n",
      "If you'd like to know more about provider signing, you can read about it here:\n",
      "https://www.terraform.io/docs/cli/plugins/signing.html\n",
      "\n",
      "\u001b[0m\u001b[1m\u001b[32mTerraform has been successfully initialized!\u001b[0m\u001b[32m\u001b[0m\n",
      "\n",
      "Terraform used the selected providers to generate the following execution\n",
      "plan. Resource actions are indicated with the following symbols:\n",
      "  \u001b[32m+\u001b[0m create\n",
      "\u001b[0m\n",
      "Terraform will perform the following actions:\n",
      "\n",
      "\u001b[1m  # ibmcpd_deployment.crossdeploy_deployment1_E539DCE6\u001b[0m will be created\u001b[0m\u001b[0m\n",
      "\u001b[0m  \u001b[32m+\u001b[0m\u001b[0m resource \"ibmcpd_deployment\" \"crossdeploy_deployment1_E539DCE6\" {\n",
      "      \u001b[32m+\u001b[0m \u001b[0m\u001b[1m\u001b[0masset\u001b[0m\u001b[0m    = (known after apply)\n",
      "      \u001b[32m+\u001b[0m \u001b[0m\u001b[1m\u001b[0mid\u001b[0m\u001b[0m       = (known after apply)\n",
      "      \u001b[32m+\u001b[0m \u001b[0m\u001b[1m\u001b[0mname\u001b[0m\u001b[0m     = \"mortgage-model-rf-deployment\"\n",
      "      \u001b[32m+\u001b[0m \u001b[0m\u001b[1m\u001b[0monline\u001b[0m\u001b[0m   = true\n",
      "      \u001b[32m+\u001b[0m \u001b[0m\u001b[1m\u001b[0mspace_id\u001b[0m\u001b[0m = \"9dd079b6-b503-4c77-ae3a-d10bf6d8adae\"\n",
      "      \u001b[32m+\u001b[0m \u001b[0m\u001b[1m\u001b[0murl\u001b[0m\u001b[0m      = (known after apply)\n",
      "    }\n",
      "\n",
      "\u001b[1m  # ibmcpd_model.crossdeploy_mortgagemodel1_075D9387\u001b[0m will be created\u001b[0m\u001b[0m\n",
      "\u001b[0m  \u001b[32m+\u001b[0m\u001b[0m resource \"ibmcpd_model\" \"crossdeploy_mortgagemodel1_075D9387\" {\n",
      "      \u001b[32m+\u001b[0m \u001b[0m\u001b[1m\u001b[0mchecksum\u001b[0m\u001b[0m      = \"99b4478038b1bb1beb1498632a46a66c\"\n",
      "      \u001b[32m+\u001b[0m \u001b[0m\u001b[1m\u001b[0mid\u001b[0m\u001b[0m            = (known after apply)\n",
      "      \u001b[32m+\u001b[0m \u001b[0m\u001b[1m\u001b[0mmodel_path\u001b[0m\u001b[0m    = \"99b4478038b1bb1beb1498632a46a66c.tar.gz\"\n",
      "      \u001b[32m+\u001b[0m \u001b[0m\u001b[1m\u001b[0mname\u001b[0m\u001b[0m          = \"mortgage-model-rf\"\n",
      "      \u001b[32m+\u001b[0m \u001b[0m\u001b[1m\u001b[0mproject_id\u001b[0m\u001b[0m    = \"fc513094-926a-404b-9001-d15a03884123\"\n",
      "      \u001b[32m+\u001b[0m \u001b[0m\u001b[1m\u001b[0msoftware_spec\u001b[0m\u001b[0m = \"runtime-22.2-py3.10\"\n",
      "      \u001b[32m+\u001b[0m \u001b[0m\u001b[1m\u001b[0mtype\u001b[0m\u001b[0m          = \"scikit-learn_1.1\"\n",
      "    }\n",
      "\n",
      "\u001b[1m  # ibmcpd_model.crossdeploy_promotedmodel1_509720E4\u001b[0m will be created\u001b[0m\u001b[0m\n",
      "\u001b[0m  \u001b[32m+\u001b[0m\u001b[0m resource \"ibmcpd_model\" \"crossdeploy_promotedmodel1_509720E4\" {\n",
      "      \u001b[32m+\u001b[0m \u001b[0m\u001b[1m\u001b[0masset_id\u001b[0m\u001b[0m      = (known after apply)\n",
      "      \u001b[32m+\u001b[0m \u001b[0m\u001b[1m\u001b[0mid\u001b[0m\u001b[0m            = (known after apply)\n",
      "      \u001b[32m+\u001b[0m \u001b[0m\u001b[1m\u001b[0mmodel_path\u001b[0m\u001b[0m    = \"99b4478038b1bb1beb1498632a46a66c.tar.gz\"\n",
      "      \u001b[32m+\u001b[0m \u001b[0m\u001b[1m\u001b[0mname\u001b[0m\u001b[0m          = \"mortgage-model-rf\"\n",
      "      \u001b[32m+\u001b[0m \u001b[0m\u001b[1m\u001b[0mproject_id\u001b[0m\u001b[0m    = \"fc513094-926a-404b-9001-d15a03884123\"\n",
      "      \u001b[32m+\u001b[0m \u001b[0m\u001b[1m\u001b[0msoftware_spec\u001b[0m\u001b[0m = \"runtime-22.2-py3.10\"\n",
      "      \u001b[32m+\u001b[0m \u001b[0m\u001b[1m\u001b[0mspace_id\u001b[0m\u001b[0m      = \"9dd079b6-b503-4c77-ae3a-d10bf6d8adae\"\n",
      "      \u001b[32m+\u001b[0m \u001b[0m\u001b[1m\u001b[0mtype\u001b[0m\u001b[0m          = \"scikit-learn_1.1\"\n",
      "    }\n",
      "\n",
      "\u001b[1m  # ibmcpd_monitor_instance.crossdeploy_driftmonitor_3089CFDB\u001b[0m will be created\u001b[0m\u001b[0m\n",
      "\u001b[0m  \u001b[32m+\u001b[0m\u001b[0m resource \"ibmcpd_monitor_instance\" \"crossdeploy_driftmonitor_3089CFDB\" {\n",
      "      \u001b[32m+\u001b[0m \u001b[0m\u001b[1m\u001b[0mdata_mart_id\u001b[0m\u001b[0m          = \"0adabc21-cf18-48c0-a36c-f7e3f3b092e8\"\n",
      "      \u001b[32m+\u001b[0m \u001b[0m\u001b[1m\u001b[0mid\u001b[0m\u001b[0m                    = (known after apply)\n",
      "      \u001b[32m+\u001b[0m \u001b[0m\u001b[1m\u001b[0mmonitor_definition_id\u001b[0m\u001b[0m = \"drift\"\n",
      "      \u001b[32m+\u001b[0m \u001b[0m\u001b[1m\u001b[0mparameters\u001b[0m\u001b[0m            = {\n",
      "          \u001b[32m+\u001b[0m \u001b[0m\u001b[1m\u001b[0mdrift_threshold\u001b[0m\u001b[0m    = 0.1\n",
      "          \u001b[32m+\u001b[0m \u001b[0m\u001b[1m\u001b[0menable_data_drift\u001b[0m\u001b[0m  = true\n",
      "          \u001b[32m+\u001b[0m \u001b[0m\u001b[1m\u001b[0menable_model_drift\u001b[0m\u001b[0m = true\n",
      "          \u001b[32m+\u001b[0m \u001b[0m\u001b[1m\u001b[0mmin_samples\u001b[0m\u001b[0m        = 100\n",
      "          \u001b[32m+\u001b[0m \u001b[0m\u001b[1m\u001b[0mtrain_drift_model\u001b[0m\u001b[0m  = true\n",
      "        }\n",
      "      \u001b[32m+\u001b[0m \u001b[0m\u001b[1m\u001b[0msubscription_id\u001b[0m\u001b[0m       = (known after apply)\n",
      "    }\n",
      "\n",
      "\u001b[1m  # ibmcpd_monitor_instance.crossdeploy_explainabilitymonitor_C90B4AD9\u001b[0m will be created\u001b[0m\u001b[0m\n",
      "\u001b[0m  \u001b[32m+\u001b[0m\u001b[0m resource \"ibmcpd_monitor_instance\" \"crossdeploy_explainabilitymonitor_C90B4AD9\" {\n",
      "      \u001b[32m+\u001b[0m \u001b[0m\u001b[1m\u001b[0mdata_mart_id\u001b[0m\u001b[0m          = \"0adabc21-cf18-48c0-a36c-f7e3f3b092e8\"\n",
      "      \u001b[32m+\u001b[0m \u001b[0m\u001b[1m\u001b[0mid\u001b[0m\u001b[0m                    = (known after apply)\n",
      "      \u001b[32m+\u001b[0m \u001b[0m\u001b[1m\u001b[0mmonitor_definition_id\u001b[0m\u001b[0m = \"explainability\"\n",
      "      \u001b[32m+\u001b[0m \u001b[0m\u001b[1m\u001b[0mparameters\u001b[0m\u001b[0m            = {\n",
      "          \u001b[32m+\u001b[0m \u001b[0m\u001b[1m\u001b[0menabled\u001b[0m\u001b[0m = true\n",
      "        }\n",
      "      \u001b[32m+\u001b[0m \u001b[0m\u001b[1m\u001b[0msubscription_id\u001b[0m\u001b[0m       = (known after apply)\n",
      "    }\n",
      "\n",
      "\u001b[1m  # ibmcpd_monitor_instance.crossdeploy_fairnessmonitor_9FC430A1\u001b[0m will be created\u001b[0m\u001b[0m\n",
      "\u001b[0m  \u001b[32m+\u001b[0m\u001b[0m resource \"ibmcpd_monitor_instance\" \"crossdeploy_fairnessmonitor_9FC430A1\" {\n",
      "      \u001b[32m+\u001b[0m \u001b[0m\u001b[1m\u001b[0mdata_mart_id\u001b[0m\u001b[0m          = \"0adabc21-cf18-48c0-a36c-f7e3f3b092e8\"\n",
      "      \u001b[32m+\u001b[0m \u001b[0m\u001b[1m\u001b[0mid\u001b[0m\u001b[0m                    = (known after apply)\n",
      "      \u001b[32m+\u001b[0m \u001b[0m\u001b[1m\u001b[0mmonitor_definition_id\u001b[0m\u001b[0m = \"fairness\"\n",
      "      \u001b[32m+\u001b[0m \u001b[0m\u001b[1m\u001b[0mparameters\u001b[0m\u001b[0m            = {\n",
      "          \u001b[32m+\u001b[0m \u001b[0m\u001b[1m\u001b[0mfavourable_class\u001b[0m\u001b[0m   = [\n",
      "              \u001b[32m+\u001b[0m \u001b[0m\"NO\",\n",
      "            ]\n",
      "          \u001b[32m+\u001b[0m \u001b[0m\u001b[1m\u001b[0mfeatures\u001b[0m\u001b[0m           = [\n",
      "              \u001b[32m+\u001b[0m \u001b[0m{\n",
      "                  \u001b[32m+\u001b[0m \u001b[0m\u001b[1m\u001b[0mfeature\u001b[0m\u001b[0m   = \"AppliedOnline\"\n",
      "                  \u001b[32m+\u001b[0m \u001b[0m\u001b[1m\u001b[0mmajority\u001b[0m\u001b[0m  = [\n",
      "                      \u001b[32m+\u001b[0m \u001b[0m\"YES\",\n",
      "                    ]\n",
      "                  \u001b[32m+\u001b[0m \u001b[0m\u001b[1m\u001b[0mminority\u001b[0m\u001b[0m  = [\n",
      "                      \u001b[32m+\u001b[0m \u001b[0m\"NO\",\n",
      "                    ]\n",
      "                  \u001b[32m+\u001b[0m \u001b[0m\u001b[1m\u001b[0mthreshold\u001b[0m\u001b[0m = 0.9\n",
      "                },\n",
      "            ]\n",
      "          \u001b[32m+\u001b[0m \u001b[0m\u001b[1m\u001b[0mmin_records\u001b[0m\u001b[0m        = 100\n",
      "          \u001b[32m+\u001b[0m \u001b[0m\u001b[1m\u001b[0munfavourable_class\u001b[0m\u001b[0m = [\n",
      "              \u001b[32m+\u001b[0m \u001b[0m\"YES\",\n",
      "            ]\n",
      "        }\n",
      "      \u001b[32m+\u001b[0m \u001b[0m\u001b[1m\u001b[0msubscription_id\u001b[0m\u001b[0m       = (known after apply)\n",
      "      \u001b[32m+\u001b[0m \u001b[0m\u001b[1m\u001b[0mthresholds\u001b[0m\u001b[0m            = [\n",
      "          \u001b[32m+\u001b[0m \u001b[0m{\n",
      "              \u001b[32m+\u001b[0m \u001b[0m\u001b[1m\u001b[0mmetric_id\u001b[0m\u001b[0m = \"fairness_value\"\n",
      "              \u001b[32m+\u001b[0m \u001b[0m\u001b[1m\u001b[0mtype\u001b[0m\u001b[0m      = \"lower_limit\"\n",
      "              \u001b[32m+\u001b[0m \u001b[0m\u001b[1m\u001b[0mvalue\u001b[0m\u001b[0m     = 0.9\n",
      "            },\n",
      "        ]\n",
      "    }\n",
      "\n",
      "\u001b[1m  # ibmcpd_monitor_instance.crossdeploy_mrmmonitor_09DF8657\u001b[0m will be created\u001b[0m\u001b[0m\n",
      "\u001b[0m  \u001b[32m+\u001b[0m\u001b[0m resource \"ibmcpd_monitor_instance\" \"crossdeploy_mrmmonitor_09DF8657\" {\n",
      "      \u001b[32m+\u001b[0m \u001b[0m\u001b[1m\u001b[0mdata_mart_id\u001b[0m\u001b[0m          = \"0adabc21-cf18-48c0-a36c-f7e3f3b092e8\"\n",
      "      \u001b[32m+\u001b[0m \u001b[0m\u001b[1m\u001b[0mid\u001b[0m\u001b[0m                    = (known after apply)\n",
      "      \u001b[32m+\u001b[0m \u001b[0m\u001b[1m\u001b[0mmonitor_definition_id\u001b[0m\u001b[0m = \"mrm\"\n",
      "      \u001b[32m+\u001b[0m \u001b[0m\u001b[1m\u001b[0msubscription_id\u001b[0m\u001b[0m       = (known after apply)\n",
      "    }\n",
      "\n",
      "\u001b[1m  # ibmcpd_monitor_instance.crossdeploy_qualitymonitor_09A65FE9\u001b[0m will be created\u001b[0m\u001b[0m\n",
      "\u001b[0m  \u001b[32m+\u001b[0m\u001b[0m resource \"ibmcpd_monitor_instance\" \"crossdeploy_qualitymonitor_09A65FE9\" {\n",
      "      \u001b[32m+\u001b[0m \u001b[0m\u001b[1m\u001b[0mdata_mart_id\u001b[0m\u001b[0m          = \"0adabc21-cf18-48c0-a36c-f7e3f3b092e8\"\n",
      "      \u001b[32m+\u001b[0m \u001b[0m\u001b[1m\u001b[0mid\u001b[0m\u001b[0m                    = (known after apply)\n",
      "      \u001b[32m+\u001b[0m \u001b[0m\u001b[1m\u001b[0mmonitor_definition_id\u001b[0m\u001b[0m = \"quality\"\n",
      "      \u001b[32m+\u001b[0m \u001b[0m\u001b[1m\u001b[0mparameters\u001b[0m\u001b[0m            = {\n",
      "          \u001b[32m+\u001b[0m \u001b[0m\u001b[1m\u001b[0mmin_feedback_data_size\u001b[0m\u001b[0m = 100\n",
      "        }\n",
      "      \u001b[32m+\u001b[0m \u001b[0m\u001b[1m\u001b[0msubscription_id\u001b[0m\u001b[0m       = (known after apply)\n",
      "      \u001b[32m+\u001b[0m \u001b[0m\u001b[1m\u001b[0mthresholds\u001b[0m\u001b[0m            = [\n",
      "          \u001b[32m+\u001b[0m \u001b[0m{\n",
      "              \u001b[32m+\u001b[0m \u001b[0m\u001b[1m\u001b[0mmetric_id\u001b[0m\u001b[0m = \"area_under_roc\"\n",
      "              \u001b[32m+\u001b[0m \u001b[0m\u001b[1m\u001b[0mtype\u001b[0m\u001b[0m      = \"lower_limit\"\n",
      "              \u001b[32m+\u001b[0m \u001b[0m\u001b[1m\u001b[0mvalue\u001b[0m\u001b[0m     = 0.8\n",
      "            },\n",
      "        ]\n",
      "    }\n",
      "\n",
      "\u001b[1m  # ibmcpd_record.crossdeploy_feedbackrecord_07EF863B\u001b[0m will be created\u001b[0m\u001b[0m\n",
      "\u001b[0m  \u001b[32m+\u001b[0m\u001b[0m resource \"ibmcpd_record\" \"crossdeploy_feedbackrecord_07EF863B\" {\n",
      "      \u001b[32m+\u001b[0m \u001b[0m\u001b[1m\u001b[0mfile_path\u001b[0m\u001b[0m       = \"feedback.json\"\n",
      "      \u001b[32m+\u001b[0m \u001b[0m\u001b[1m\u001b[0msubscription_id\u001b[0m\u001b[0m = (known after apply)\n",
      "      \u001b[32m+\u001b[0m \u001b[0m\u001b[1m\u001b[0mtype\u001b[0m\u001b[0m            = \"feedback\"\n",
      "    }\n",
      "\n",
      "\u001b[1m  # ibmcpd_service_provider.crossdeploy_serviceprovider1_B7A74882\u001b[0m will be created\u001b[0m\u001b[0m\n",
      "\u001b[0m  \u001b[32m+\u001b[0m\u001b[0m resource \"ibmcpd_service_provider\" \"crossdeploy_serviceprovider1_B7A74882\" {\n",
      "      \u001b[32m+\u001b[0m \u001b[0m\u001b[1m\u001b[0mapi_key\u001b[0m\u001b[0m              = (sensitive value)\n",
      "      \u001b[32m+\u001b[0m \u001b[0m\u001b[1m\u001b[0mdeployment_space_id\u001b[0m\u001b[0m  = \"9dd079b6-b503-4c77-ae3a-d10bf6d8adae\"\n",
      "      \u001b[32m+\u001b[0m \u001b[0m\u001b[1m\u001b[0mid\u001b[0m\u001b[0m                   = (known after apply)\n",
      "      \u001b[32m+\u001b[0m \u001b[0m\u001b[1m\u001b[0mname\u001b[0m\u001b[0m                 = \"WML - Dev\"\n",
      "      \u001b[32m+\u001b[0m \u001b[0m\u001b[1m\u001b[0moperational_space_id\u001b[0m\u001b[0m = \"pre_production\"\n",
      "      \u001b[32m+\u001b[0m \u001b[0m\u001b[1m\u001b[0mservice_type\u001b[0m\u001b[0m         = \"watson_machine_learning\"\n",
      "      \u001b[32m+\u001b[0m \u001b[0m\u001b[1m\u001b[0murl\u001b[0m\u001b[0m                  = \"https://us-south.ml.cloud.ibm.com\"\n",
      "    }\n",
      "\n",
      "\u001b[1m  # ibmcpd_subscription.crossdeploy_subscription1_A3423F9C\u001b[0m will be created\u001b[0m\u001b[0m\n",
      "\u001b[0m  \u001b[32m+\u001b[0m\u001b[0m resource \"ibmcpd_subscription\" \"crossdeploy_subscription1_A3423F9C\" {\n",
      "      \u001b[32m+\u001b[0m \u001b[0m\u001b[1m\u001b[0masset\u001b[0m\u001b[0m                   = {\n",
      "          \u001b[32m+\u001b[0m \u001b[0m\u001b[1m\u001b[0masset_id\u001b[0m\u001b[0m        = (known after apply)\n",
      "          \u001b[32m+\u001b[0m \u001b[0m\u001b[1m\u001b[0masset_type\u001b[0m\u001b[0m      = \"model\"\n",
      "          \u001b[32m+\u001b[0m \u001b[0m\u001b[1m\u001b[0minput_data_type\u001b[0m\u001b[0m = \"structured\"\n",
      "          \u001b[32m+\u001b[0m \u001b[0m\u001b[1m\u001b[0mproblem_type\u001b[0m\u001b[0m    = \"binary\"\n",
      "          \u001b[32m+\u001b[0m \u001b[0m\u001b[1m\u001b[0murl\u001b[0m\u001b[0m             = (known after apply)\n",
      "        }\n",
      "      \u001b[32m+\u001b[0m \u001b[0m\u001b[1m\u001b[0masset_properties\u001b[0m\u001b[0m        = {\n",
      "          \u001b[32m+\u001b[0m \u001b[0m\u001b[1m\u001b[0mcategorical_fields\u001b[0m\u001b[0m = [\n",
      "              \u001b[32m+\u001b[0m \u001b[0m\"AppliedOnline\",\n",
      "              \u001b[32m+\u001b[0m \u001b[0m\"Residence\",\n",
      "            ]\n",
      "          \u001b[32m+\u001b[0m \u001b[0m\u001b[1m\u001b[0mfeature_fields\u001b[0m\u001b[0m     = [\n",
      "              \u001b[32m+\u001b[0m \u001b[0m\"Income\",\n",
      "              \u001b[32m+\u001b[0m \u001b[0m\"AppliedOnline\",\n",
      "              \u001b[32m+\u001b[0m \u001b[0m\"Residence\",\n",
      "              \u001b[32m+\u001b[0m \u001b[0m\"YearCurrentAddress\",\n",
      "              \u001b[32m+\u001b[0m \u001b[0m\"YearsCurrentEmployer\",\n",
      "              \u001b[32m+\u001b[0m \u001b[0m\"NumberOfCards\",\n",
      "              \u001b[32m+\u001b[0m \u001b[0m\"CCDebt\",\n",
      "              \u001b[32m+\u001b[0m \u001b[0m\"Loans\",\n",
      "              \u001b[32m+\u001b[0m \u001b[0m\"LoanAmount\",\n",
      "              \u001b[32m+\u001b[0m \u001b[0m\"SalePrice\",\n",
      "              \u001b[32m+\u001b[0m \u001b[0m\"Location\",\n",
      "            ]\n",
      "          \u001b[32m+\u001b[0m \u001b[0m\u001b[1m\u001b[0mlabel_column\u001b[0m\u001b[0m       = \"MortgageDefault\"\n",
      "          \u001b[32m+\u001b[0m \u001b[0m\u001b[1m\u001b[0mprediction_field\u001b[0m\u001b[0m   = \"prediction\"\n",
      "          \u001b[32m+\u001b[0m \u001b[0m\u001b[1m\u001b[0mprobability_fields\u001b[0m\u001b[0m = [\n",
      "              \u001b[32m+\u001b[0m \u001b[0m\"probability\",\n",
      "            ]\n",
      "        }\n",
      "      \u001b[32m+\u001b[0m \u001b[0m\u001b[1m\u001b[0mdata_mart_id\u001b[0m\u001b[0m            = \"0adabc21-cf18-48c0-a36c-f7e3f3b092e8\"\n",
      "      \u001b[32m+\u001b[0m \u001b[0m\u001b[1m\u001b[0mdeployment\u001b[0m\u001b[0m              = {\n",
      "          \u001b[32m+\u001b[0m \u001b[0m\u001b[1m\u001b[0mdeployment_id\u001b[0m\u001b[0m   = (known after apply)\n",
      "          \u001b[32m+\u001b[0m \u001b[0m\u001b[1m\u001b[0mdeployment_type\u001b[0m\u001b[0m = \"online\"\n",
      "          \u001b[32m+\u001b[0m \u001b[0m\u001b[1m\u001b[0mdeployment_url\u001b[0m\u001b[0m  = (known after apply)\n",
      "        }\n",
      "      \u001b[32m+\u001b[0m \u001b[0m\u001b[1m\u001b[0mid\u001b[0m\u001b[0m                      = (known after apply)\n",
      "      \u001b[32m+\u001b[0m \u001b[0m\u001b[1m\u001b[0mname\u001b[0m\u001b[0m                    = \"mortgage-model-rf-subscription\"\n",
      "      \u001b[32m+\u001b[0m \u001b[0m\u001b[1m\u001b[0mpayload_file\u001b[0m\u001b[0m            = \"payload.json\"\n",
      "      \u001b[32m+\u001b[0m \u001b[0m\u001b[1m\u001b[0mservice_provider_id\u001b[0m\u001b[0m     = (known after apply)\n",
      "      \u001b[32m+\u001b[0m \u001b[0m\u001b[1m\u001b[0mtraining_data_reference\u001b[0m\u001b[0m = {\n",
      "          \u001b[32m+\u001b[0m \u001b[0m\u001b[1m\u001b[0mbucket_name\u001b[0m\u001b[0m          = \"data-rp\"\n",
      "          \u001b[32m+\u001b[0m \u001b[0m\u001b[1m\u001b[0mcos_api_key\u001b[0m\u001b[0m          = (sensitive value)\n",
      "          \u001b[32m+\u001b[0m \u001b[0m\u001b[1m\u001b[0mcos_url\u001b[0m\u001b[0m              = \"https://s3.us.cloud-object-storage.appdomain.cloud\"\n",
      "          \u001b[32m+\u001b[0m \u001b[0m\u001b[1m\u001b[0mfile_name\u001b[0m\u001b[0m            = \"mortgage-default.csv\"\n",
      "          \u001b[32m+\u001b[0m \u001b[0m\u001b[1m\u001b[0miam_url\u001b[0m\u001b[0m              = \"https://iam.bluemix.net/oidc/token\"\n",
      "          \u001b[32m+\u001b[0m \u001b[0m\u001b[1m\u001b[0mresource_instance_id\u001b[0m\u001b[0m = \"2bc86622-194d-4728-b280-7bd9fcfbdf80\"\n",
      "          \u001b[32m+\u001b[0m \u001b[0m\u001b[1m\u001b[0mtype\u001b[0m\u001b[0m                 = \"cos\"\n",
      "        }\n",
      "      \u001b[32m+\u001b[0m \u001b[0m\u001b[1m\u001b[0mtraining_data_schema\u001b[0m\u001b[0m    = [\n",
      "          \u001b[32m+\u001b[0m \u001b[0m{\n",
      "              \u001b[32m+\u001b[0m \u001b[0m\u001b[1m\u001b[0mname\u001b[0m\u001b[0m     = \"Income\"\n",
      "              \u001b[32m+\u001b[0m \u001b[0m\u001b[1m\u001b[0mnullable\u001b[0m\u001b[0m = true\n",
      "              \u001b[32m+\u001b[0m \u001b[0m\u001b[1m\u001b[0mtype\u001b[0m\u001b[0m     = \"long\"\n",
      "            },\n",
      "          \u001b[32m+\u001b[0m \u001b[0m{\n",
      "              \u001b[32m+\u001b[0m \u001b[0m\u001b[1m\u001b[0mname\u001b[0m\u001b[0m     = \"YearCurrentAddress\"\n",
      "              \u001b[32m+\u001b[0m \u001b[0m\u001b[1m\u001b[0mnullable\u001b[0m\u001b[0m = true\n",
      "              \u001b[32m+\u001b[0m \u001b[0m\u001b[1m\u001b[0mtype\u001b[0m\u001b[0m     = \"long\"\n",
      "            },\n",
      "          \u001b[32m+\u001b[0m \u001b[0m{\n",
      "              \u001b[32m+\u001b[0m \u001b[0m\u001b[1m\u001b[0mname\u001b[0m\u001b[0m     = \"YearsCurrentEmployer\"\n",
      "              \u001b[32m+\u001b[0m \u001b[0m\u001b[1m\u001b[0mnullable\u001b[0m\u001b[0m = true\n",
      "              \u001b[32m+\u001b[0m \u001b[0m\u001b[1m\u001b[0mtype\u001b[0m\u001b[0m     = \"long\"\n",
      "            },\n",
      "          \u001b[32m+\u001b[0m \u001b[0m{\n",
      "              \u001b[32m+\u001b[0m \u001b[0m\u001b[1m\u001b[0mname\u001b[0m\u001b[0m     = \"NumberOfCards\"\n",
      "              \u001b[32m+\u001b[0m \u001b[0m\u001b[1m\u001b[0mnullable\u001b[0m\u001b[0m = true\n",
      "              \u001b[32m+\u001b[0m \u001b[0m\u001b[1m\u001b[0mtype\u001b[0m\u001b[0m     = \"long\"\n",
      "            },\n",
      "          \u001b[32m+\u001b[0m \u001b[0m{\n",
      "              \u001b[32m+\u001b[0m \u001b[0m\u001b[1m\u001b[0mname\u001b[0m\u001b[0m     = \"CCDebt\"\n",
      "              \u001b[32m+\u001b[0m \u001b[0m\u001b[1m\u001b[0mnullable\u001b[0m\u001b[0m = true\n",
      "              \u001b[32m+\u001b[0m \u001b[0m\u001b[1m\u001b[0mtype\u001b[0m\u001b[0m     = \"long\"\n",
      "            },\n",
      "          \u001b[32m+\u001b[0m \u001b[0m{\n",
      "              \u001b[32m+\u001b[0m \u001b[0m\u001b[1m\u001b[0mname\u001b[0m\u001b[0m     = \"Loans\"\n",
      "              \u001b[32m+\u001b[0m \u001b[0m\u001b[1m\u001b[0mnullable\u001b[0m\u001b[0m = true\n",
      "              \u001b[32m+\u001b[0m \u001b[0m\u001b[1m\u001b[0mtype\u001b[0m\u001b[0m     = \"long\"\n",
      "            },\n",
      "          \u001b[32m+\u001b[0m \u001b[0m{\n",
      "              \u001b[32m+\u001b[0m \u001b[0m\u001b[1m\u001b[0mname\u001b[0m\u001b[0m     = \"LoanAmount\"\n",
      "              \u001b[32m+\u001b[0m \u001b[0m\u001b[1m\u001b[0mnullable\u001b[0m\u001b[0m = true\n",
      "              \u001b[32m+\u001b[0m \u001b[0m\u001b[1m\u001b[0mtype\u001b[0m\u001b[0m     = \"long\"\n",
      "            },\n",
      "          \u001b[32m+\u001b[0m \u001b[0m{\n",
      "              \u001b[32m+\u001b[0m \u001b[0m\u001b[1m\u001b[0mname\u001b[0m\u001b[0m     = \"SalePrice\"\n",
      "              \u001b[32m+\u001b[0m \u001b[0m\u001b[1m\u001b[0mnullable\u001b[0m\u001b[0m = true\n",
      "              \u001b[32m+\u001b[0m \u001b[0m\u001b[1m\u001b[0mtype\u001b[0m\u001b[0m     = \"long\"\n",
      "            },\n",
      "          \u001b[32m+\u001b[0m \u001b[0m{\n",
      "              \u001b[32m+\u001b[0m \u001b[0m\u001b[1m\u001b[0mname\u001b[0m\u001b[0m     = \"Location\"\n",
      "              \u001b[32m+\u001b[0m \u001b[0m\u001b[1m\u001b[0mnullable\u001b[0m\u001b[0m = true\n",
      "              \u001b[32m+\u001b[0m \u001b[0m\u001b[1m\u001b[0mtype\u001b[0m\u001b[0m     = \"long\"\n",
      "            },\n",
      "          \u001b[32m+\u001b[0m \u001b[0m{\n",
      "              \u001b[32m+\u001b[0m \u001b[0m\u001b[1m\u001b[0mname\u001b[0m\u001b[0m     = \"AppliedOnline\"\n",
      "              \u001b[32m+\u001b[0m \u001b[0m\u001b[1m\u001b[0mnullable\u001b[0m\u001b[0m = true\n",
      "              \u001b[32m+\u001b[0m \u001b[0m\u001b[1m\u001b[0mtype\u001b[0m\u001b[0m     = \"string\"\n",
      "            },\n",
      "          \u001b[32m+\u001b[0m \u001b[0m{\n",
      "              \u001b[32m+\u001b[0m \u001b[0m\u001b[1m\u001b[0mname\u001b[0m\u001b[0m     = \"Residence\"\n",
      "              \u001b[32m+\u001b[0m \u001b[0m\u001b[1m\u001b[0mnullable\u001b[0m\u001b[0m = true\n",
      "              \u001b[32m+\u001b[0m \u001b[0m\u001b[1m\u001b[0mtype\u001b[0m\u001b[0m     = \"string\"\n",
      "            },\n",
      "        ]\n",
      "    }\n",
      "\n",
      "\u001b[0m\u001b[1mPlan:\u001b[0m 11 to add, 0 to change, 0 to destroy.\n",
      "\u001b[0m\u001b[0m\u001b[1mibmcpd_service_provider.crossdeploy_serviceprovider1_B7A74882: Creating...\u001b[0m\u001b[0m\n",
      "\u001b[0m\u001b[1mibmcpd_model.crossdeploy_mortgagemodel1_075D9387: Creating...\u001b[0m\u001b[0m\n",
      "\u001b[0m\u001b[1mibmcpd_service_provider.crossdeploy_serviceprovider1_B7A74882: Creation complete after 1s [id=e0e0db50-cd98-45b5-b2bb-151496745d04]\u001b[0m\n",
      "\u001b[0m\u001b[1mibmcpd_model.crossdeploy_mortgagemodel1_075D9387: Creation complete after 6s [id=cd5fe63b-e19d-4fde-807d-b43ecfc2dc28]\u001b[0m\n",
      "\u001b[0m\u001b[1mibmcpd_model.crossdeploy_promotedmodel1_509720E4: Creating...\u001b[0m\u001b[0m\n",
      "\u001b[0m\u001b[1mibmcpd_model.crossdeploy_promotedmodel1_509720E4: Creation complete after 7s [id=8860edea-13e1-4086-9453-72a1e340a9f1]\u001b[0m\n",
      "\u001b[0m\u001b[1mibmcpd_deployment.crossdeploy_deployment1_E539DCE6: Creating...\u001b[0m\u001b[0m\n",
      "\u001b[0m\u001b[1mibmcpd_deployment.crossdeploy_deployment1_E539DCE6: Creation complete after 2s [id=0d1129c9-418e-4e67-9596-e93c30fc4a47]\u001b[0m\n",
      "\u001b[0m\u001b[1mibmcpd_subscription.crossdeploy_subscription1_A3423F9C: Creating...\u001b[0m\u001b[0m\n",
      "\u001b[0m\u001b[1mibmcpd_subscription.crossdeploy_subscription1_A3423F9C: Still creating... [10s elapsed]\u001b[0m\u001b[0m\n",
      "\u001b[0m\u001b[1mibmcpd_subscription.crossdeploy_subscription1_A3423F9C: Still creating... [20s elapsed]\u001b[0m\u001b[0m\n",
      "\u001b[0m\u001b[1mibmcpd_subscription.crossdeploy_subscription1_A3423F9C: Creation complete after 28s [id=b70358fa-5c72-4a16-b376-9d1bc3d23945]\u001b[0m\n",
      "\u001b[0m\u001b[1mibmcpd_monitor_instance.crossdeploy_mrmmonitor_09DF8657: Creating...\u001b[0m\u001b[0m\n",
      "\u001b[0m\u001b[1mibmcpd_monitor_instance.crossdeploy_explainabilitymonitor_C90B4AD9: Creating...\u001b[0m\u001b[0m\n",
      "\u001b[0m\u001b[1mibmcpd_monitor_instance.crossdeploy_driftmonitor_3089CFDB: Creating...\u001b[0m\u001b[0m\n",
      "\u001b[0m\u001b[1mibmcpd_monitor_instance.crossdeploy_qualitymonitor_09A65FE9: Creating...\u001b[0m\u001b[0m\n",
      "\u001b[0m\u001b[1mibmcpd_monitor_instance.crossdeploy_fairnessmonitor_9FC430A1: Creating...\u001b[0m\u001b[0m\n",
      "\u001b[0m\u001b[1mibmcpd_monitor_instance.crossdeploy_mrmmonitor_09DF8657: Creation complete after 1s [id=9d515520-2e43-4caf-a900-b4cbff4d8550]\u001b[0m\n",
      "\u001b[0m\u001b[1mibmcpd_monitor_instance.crossdeploy_qualitymonitor_09A65FE9: Creation complete after 2s [id=a8ea5e56-68d7-46d8-9b33-80ab00069563]\u001b[0m\n",
      "\u001b[0m\u001b[1mibmcpd_monitor_instance.crossdeploy_driftmonitor_3089CFDB: Creation complete after 2s [id=0518632f-523f-44b2-9bd0-d5646a917dbb]\u001b[0m\n",
      "\u001b[0m\u001b[1mibmcpd_monitor_instance.crossdeploy_explainabilitymonitor_C90B4AD9: Creation complete after 2s [id=863cca5d-dd52-4680-bfda-4a4e7b178646]\u001b[0m\n",
      "\u001b[0m\u001b[1mibmcpd_record.crossdeploy_feedbackrecord_07EF863B: Creating...\u001b[0m\u001b[0m\n",
      "\u001b[0m\u001b[1mibmcpd_monitor_instance.crossdeploy_fairnessmonitor_9FC430A1: Creation complete after 2s [id=8f810f17-fa89-4832-9138-b3fd57780a03]\u001b[0m\n",
      "\u001b[0m\u001b[1mibmcpd_record.crossdeploy_feedbackrecord_07EF863B: Creation complete after 6s\u001b[0m\n",
      "\u001b[0m\u001b[1m\u001b[32m\n",
      "Apply complete! Resources: 11 added, 0 changed, 0 destroyed.\n",
      "\u001b[0m"
     ]
    }
   ],
   "source": [
    "MODEL_NAME = \"mortgage-model-rf\"\n",
    "DEPLOYMENT_NAME = \"mortgage-model-rf-deployment\"\n",
    "SUBSCRIPTION_NAME = \"mortgage-model-rf-subscription\"\n",
    "\n",
    "PROVIDER_CONFIG = {\n",
    "    \"url\": CLOUD_URL,\n",
    "    \"api_key\": CLOUD_API_KEY,\n",
    "}\n",
    "\n",
    "MODEL_CONFIG = {\n",
    "    \"name\": MODEL_NAME,\n",
    "    \"model\": model,\n",
    "    \"project_id\": PROJECT_ID,\n",
    "}\n",
    "\n",
    "DEPLOYMENT_CONFIG = {\n",
    "    \"name\": DEPLOYMENT_NAME,\n",
    "    \"space_id\": SPACE_ID,\n",
    "    \"online\": True,\n",
    "}\n",
    "\n",
    "SERVICE_PROVIDER = {\n",
    "    \"name\": \"WML - Dev\",\n",
    "    \"service_type\": \"watson_machine_learning\",\n",
    "    \"operational_space_id\": \"pre_production\",\n",
    "}\n",
    "\n",
    "SUBSCRIPTION = {\n",
    "    \"name\": SUBSCRIPTION_NAME,\n",
    "    \"data_mart_id\": DATA_MART_ID,\n",
    "    \"asset_type\": \"model\",\n",
    "    \"input_data_type\": \"structured\",\n",
    "    \"problem_type\": \"binary\",\n",
    "    \"asset_properties\": {\n",
    "        \"categorical_fields\": X.select_dtypes(include=object).columns.tolist(),\n",
    "        \"feature_fields\": X.columns.tolist(),\n",
    "        \"label_column\": label_column,\n",
    "        \"prediction_field\": \"prediction\",\n",
    "        \"probability_fields\": [\"probability\"],\n",
    "    }\n",
    "}\n",
    "\n",
    "COS_DATA_REFERENCE = {\n",
    "    \"type\": \"cos\",\n",
    "    \"bucket_name\": \"data-rp\",\n",
    "    \"file_name\": \"mortgage-default.csv\",\n",
    "    \"resource_instance_id\": \"2bc86622-194d-4728-b280-7bd9fcfbdf80\",\n",
    "    \"cos_api_key\": COS_API_KEY,\n",
    "    \"cos_url\": \"https://s3.us.cloud-object-storage.appdomain.cloud\",\n",
    "    \"iam_url\": \"https://iam.bluemix.net/oidc/token\",\n",
    "}\n",
    "\n",
    "MONITORS_CONFIG = {\n",
    "    \"quality\": {\n",
    "        \"min_feedback_data_size\": 100,\n",
    "        \"thresholds\": [{\n",
    "            \"metric_id\": \"area_under_roc\",\n",
    "            \"type\": \"lower_limit\",\n",
    "            \"value\": 0.8,\n",
    "        }]\n",
    "    },\n",
    "    \"drift\": {\n",
    "        \"parameters\": {\n",
    "            \"min_samples\":  100,\n",
    "            \"drift_threshold\": 0.1,\n",
    "            \"train_drift_model\": True,\n",
    "            \"enable_model_drift\": True,\n",
    "            \"enable_data_drift\": True,\n",
    "        }\n",
    "    },\n",
    "    \"fairness\": {\n",
    "        \"favourable_class\": [\"NO\"],\n",
    "        \"unfavourable_class\": [\"YES\"],\n",
    "        \"min_records\": 100,\n",
    "        \"features\": [{\n",
    "            \"feature\": \"AppliedOnline\",\n",
    "            \"majority\": [\"YES\"],\n",
    "            \"minority\": [\"NO\"],\n",
    "            \"threshold\": 0.9,\n",
    "        }],\n",
    "        \"thresholds\": [{\n",
    "            \"metric_id\": \"fairness_value\",\n",
    "            \"type\": \"lower_limit\",\n",
    "            \"value\": 0.9,\n",
    "        }]\n",
    "    },\n",
    "    \"explainability\": {\n",
    "        \"enabled\": True,\n",
    "    }\n",
    "}\n",
    "\n",
    "config = {\n",
    "    \"provider\": PROVIDER_CONFIG,\n",
    "    \"model\": MODEL_CONFIG,\n",
    "    \"deployment\": DEPLOYMENT_CONFIG,\n",
    "    \"service_provider\": SERVICE_PROVIDER,\n",
    "    \"subscription\": SUBSCRIPTION,\n",
    "    \"cos_data_reference\": COS_DATA_REFERENCE,\n",
    "    \"monitors\": MONITORS_CONFIG,\n",
    "}\n",
    "\n",
    "model_monitor = ModelMonitor(config)\n",
    "model_monitor.apply()"
   ]
  },
  {
   "cell_type": "markdown",
   "metadata": {
    "id": "8b8da302-7e09-4300-a4b3-8234c64c2634"
   },
   "source": [
    "# Check that everything has been setup without errors"
   ]
  },
  {
   "cell_type": "code",
   "execution_count": 17,
   "metadata": {
    "id": "70ae5844-077d-428c-ba7e-1ab2dcd30469",
    "tags": []
   },
   "outputs": [
    {
     "data": {
      "text/html": [
       "<HTML>\n",
       "        <body>\n",
       "            <h3>Subscriptions</h3>\n",
       "            <table style='border: 1px solid #dddddd; font-family: Courier'>\n",
       "                <th style='border: 1px solid #dddddd'>asset_id</th><th style='border: 1px solid #dddddd'>asset_name</th><th style='border: 1px solid #dddddd'>data_mart_id</th><th style='border: 1px solid #dddddd'>deployment_id</th><th style='border: 1px solid #dddddd'>deployment_name</th><th style='border: 1px solid #dddddd'>service_provider_id</th><th style='border: 1px solid #dddddd'>status</th><th style='border: 1px solid #dddddd'>created_at</th><th style='border: 1px solid #dddddd'>id</th>\n",
       "                <tr><td style='border: 1px solid #dddddd'>8860edea-13e1-4086-9453-72a1e340a9f1</td><td style='border: 1px solid #dddddd'>None</td><td style='border: 1px solid #dddddd'>0adabc21-cf18-48c0-a36c-f7e3f3b092e8</td><td style='border: 1px solid #dddddd'>0d1129c9-418e-4e67-9596-e93c30fc4a47</td><td style='border: 1px solid #dddddd'>mortgage-model-rf-subscription</td><td style='border: 1px solid #dddddd'>e0e0db50-cd98-45b5-b2bb-151496745d04</td><td style='border: 1px solid #dddddd'>active</td><td style='border: 1px solid #dddddd'>2023-01-16 05:50:37.109000+00:00</td><td style='border: 1px solid #dddddd'>b70358fa-5c72-4a16-b376-9d1bc3d23945</td></tr>\n",
       "            </table>\n",
       "        </body>\n",
       "        </HTML>"
      ],
      "text/plain": [
       "<IPython.core.display.HTML object>"
      ]
     },
     "metadata": {},
     "output_type": "display_data"
    },
    {
     "data": {
      "text/html": [
       "<HTML>\n",
       "        <body>\n",
       "            <h3>Monitor instances</h3>\n",
       "            <table style='border: 1px solid #dddddd; font-family: Courier'>\n",
       "                <th style='border: 1px solid #dddddd'>data_mart_id</th><th style='border: 1px solid #dddddd'>status</th><th style='border: 1px solid #dddddd'>target_id</th><th style='border: 1px solid #dddddd'>target_type</th><th style='border: 1px solid #dddddd'>monitor_definition_id</th><th style='border: 1px solid #dddddd'>created_at</th><th style='border: 1px solid #dddddd'>id</th>\n",
       "                <tr><td style='border: 1px solid #dddddd'>0adabc21-cf18-48c0-a36c-f7e3f3b092e8</td><td style='border: 1px solid #dddddd'>active</td><td style='border: 1px solid #dddddd'>b70358fa-5c72-4a16-b376-9d1bc3d23945</td><td style='border: 1px solid #dddddd'>subscription</td><td style='border: 1px solid #dddddd'>fairness</td><td style='border: 1px solid #dddddd'>2023-01-16 05:51:03.397000+00:00</td><td style='border: 1px solid #dddddd'>8f810f17-fa89-4832-9138-b3fd57780a03</td></tr><tr><td style='border: 1px solid #dddddd'>0adabc21-cf18-48c0-a36c-f7e3f3b092e8</td><td style='border: 1px solid #dddddd'>active</td><td style='border: 1px solid #dddddd'>b70358fa-5c72-4a16-b376-9d1bc3d23945</td><td style='border: 1px solid #dddddd'>subscription</td><td style='border: 1px solid #dddddd'>drift</td><td style='border: 1px solid #dddddd'>2023-01-16 05:51:03.284000+00:00</td><td style='border: 1px solid #dddddd'>0518632f-523f-44b2-9bd0-d5646a917dbb</td></tr><tr><td style='border: 1px solid #dddddd'>0adabc21-cf18-48c0-a36c-f7e3f3b092e8</td><td style='border: 1px solid #dddddd'>active</td><td style='border: 1px solid #dddddd'>b70358fa-5c72-4a16-b376-9d1bc3d23945</td><td style='border: 1px solid #dddddd'>subscription</td><td style='border: 1px solid #dddddd'>quality</td><td style='border: 1px solid #dddddd'>2023-01-16 05:51:03.278000+00:00</td><td style='border: 1px solid #dddddd'>a8ea5e56-68d7-46d8-9b33-80ab00069563</td></tr><tr><td style='border: 1px solid #dddddd'>0adabc21-cf18-48c0-a36c-f7e3f3b092e8</td><td style='border: 1px solid #dddddd'>active</td><td style='border: 1px solid #dddddd'>b70358fa-5c72-4a16-b376-9d1bc3d23945</td><td style='border: 1px solid #dddddd'>subscription</td><td style='border: 1px solid #dddddd'>mrm</td><td style='border: 1px solid #dddddd'>2023-01-16 05:51:02.935000+00:00</td><td style='border: 1px solid #dddddd'>9d515520-2e43-4caf-a900-b4cbff4d8550</td></tr><tr><td style='border: 1px solid #dddddd'>0adabc21-cf18-48c0-a36c-f7e3f3b092e8</td><td style='border: 1px solid #dddddd'>active</td><td style='border: 1px solid #dddddd'>b70358fa-5c72-4a16-b376-9d1bc3d23945</td><td style='border: 1px solid #dddddd'>subscription</td><td style='border: 1px solid #dddddd'>explainability</td><td style='border: 1px solid #dddddd'>2023-01-16 05:51:03.278000+00:00</td><td style='border: 1px solid #dddddd'>863cca5d-dd52-4680-bfda-4a4e7b178646</td></tr>\n",
       "            </table>\n",
       "        </body>\n",
       "        </HTML>"
      ],
      "text/plain": [
       "<IPython.core.display.HTML object>"
      ]
     },
     "metadata": {},
     "output_type": "display_data"
    }
   ],
   "source": [
    "wos_client.subscriptions.show()\n",
    "wos_client.monitor_instances.show()"
   ]
  },
  {
   "cell_type": "markdown",
   "metadata": {
    "id": "c096e325-ffbc-4d47-a270-b2ee39a02f97"
   },
   "source": [
    "# Run MRM monitor"
   ]
  },
  {
   "cell_type": "code",
   "execution_count": 16,
   "metadata": {
    "id": "f7479e2d-1df0-4573-9463-f7dd69efe614",
    "tags": []
   },
   "outputs": [
    {
     "data": {
      "text/plain": [
       "'{\"evaluation_id\": \"70933dc7-a70e-4658-9d68-a14bf038f6db\", \"evaluation_date\": \"2023-01-16T05:53:05.064000Z\", \"publish_metrics\": \"false\", \"evaluation_tests\": [\"drift\", \"fairness\", \"quality\", \"explainability\"], \"evaluation_start_time\": \"2023-01-16T05:53:07.123493Z\", \"status\": {\"state\": \"UPLOAD_IN_PROGRESS\"}}\\n'"
      ]
     },
     "execution_count": 16,
     "metadata": {},
     "output_type": "execute_result"
    }
   ],
   "source": [
    "mrm_monitor_instance_id = utils.get_resource_by_name(model_monitor.mrm_monitor.friendly_unique_id)[\"id\"]\n",
    "\n",
    "buffer = io.BytesIO()\n",
    "df.sample(500, replace=True).to_csv(buffer, index=False, mode=\"wb\", encoding=\"utf-8\")\n",
    "file_name = \"test_data_1.csv\"\n",
    "POST_EVALUATIONS_URL = f\"https://api.aiopenscale.cloud.ibm.com/openscale/{DATA_MART_ID}/v2/monitoring_services/mrm/monitor_instances/{mrm_monitor_instance_id}/risk_evaluations?test_data_set_name={file_name}\"\n",
    "headers = {\"Content-Type\": \"text/csv\", \"Accept\": \"application/json\", \"Authorization\": wml_client._get_headers()[\"Authorization\"]}\n",
    "buffer.seek(0)\n",
    "response = requests.post(POST_EVALUATIONS_URL, data=buffer.read(), headers=headers, verify=False)\n",
    "response.text"
   ]
  },
  {
   "cell_type": "markdown",
   "metadata": {
    "id": "0ff65b6a-3c68-4608-a848-1501f029da61"
   },
   "source": [
    "# Clean up"
   ]
  },
  {
   "cell_type": "code",
   "execution_count": 18,
   "metadata": {
    "id": "bfb04b8f-9487-403d-866c-4d80b867fbf6",
    "tags": []
   },
   "outputs": [
    {
     "name": "stdout",
     "output_type": "stream",
     "text": [
      "Destroying ...\n",
      "\u001b[0m\u001b[1mibmcpd_service_provider.crossdeploy_serviceprovider1_B7A74882: Refreshing state... [id=e0e0db50-cd98-45b5-b2bb-151496745d04]\u001b[0m\n",
      "\u001b[0m\u001b[1mibmcpd_model.crossdeploy_mortgagemodel1_075D9387: Refreshing state... [id=cd5fe63b-e19d-4fde-807d-b43ecfc2dc28]\u001b[0m\n",
      "\u001b[0m\u001b[1mibmcpd_model.crossdeploy_promotedmodel1_509720E4: Refreshing state... [id=8860edea-13e1-4086-9453-72a1e340a9f1]\u001b[0m\n",
      "\u001b[0m\u001b[1mibmcpd_deployment.crossdeploy_deployment1_E539DCE6: Refreshing state... [id=0d1129c9-418e-4e67-9596-e93c30fc4a47]\u001b[0m\n",
      "\u001b[0m\u001b[1mibmcpd_subscription.crossdeploy_subscription1_A3423F9C: Refreshing state... [id=b70358fa-5c72-4a16-b376-9d1bc3d23945]\u001b[0m\n",
      "\u001b[0m\u001b[1mibmcpd_monitor_instance.crossdeploy_driftmonitor_3089CFDB: Refreshing state... [id=0518632f-523f-44b2-9bd0-d5646a917dbb]\u001b[0m\n",
      "\u001b[0m\u001b[1mibmcpd_monitor_instance.crossdeploy_mrmmonitor_09DF8657: Refreshing state... [id=9d515520-2e43-4caf-a900-b4cbff4d8550]\u001b[0m\n",
      "\u001b[0m\u001b[1mibmcpd_monitor_instance.crossdeploy_explainabilitymonitor_C90B4AD9: Refreshing state... [id=863cca5d-dd52-4680-bfda-4a4e7b178646]\u001b[0m\n",
      "\u001b[0m\u001b[1mibmcpd_monitor_instance.crossdeploy_fairnessmonitor_9FC430A1: Refreshing state... [id=8f810f17-fa89-4832-9138-b3fd57780a03]\u001b[0m\n",
      "\u001b[0m\u001b[1mibmcpd_monitor_instance.crossdeploy_qualitymonitor_09A65FE9: Refreshing state... [id=a8ea5e56-68d7-46d8-9b33-80ab00069563]\u001b[0m\n",
      "\u001b[0m\u001b[1mibmcpd_record.crossdeploy_feedbackrecord_07EF863B: Refreshing state...\u001b[0m\n",
      "\n",
      "Terraform used the selected providers to generate the following execution\n",
      "plan. Resource actions are indicated with the following symbols:\n",
      "  \u001b[31m-\u001b[0m destroy\n",
      "\u001b[0m\n",
      "Terraform will perform the following actions:\n",
      "\n",
      "\u001b[1m  # ibmcpd_deployment.crossdeploy_deployment1_E539DCE6\u001b[0m will be \u001b[1m\u001b[31mdestroyed\u001b[0m\u001b[0m\n",
      "\u001b[0m  \u001b[31m-\u001b[0m\u001b[0m resource \"ibmcpd_deployment\" \"crossdeploy_deployment1_E539DCE6\" {\n",
      "      \u001b[31m-\u001b[0m \u001b[0m\u001b[1m\u001b[0masset\u001b[0m\u001b[0m    = \"8860edea-13e1-4086-9453-72a1e340a9f1\" \u001b[90m->\u001b[0m \u001b[0m\u001b[90mnull\u001b[0m\u001b[0m\n",
      "      \u001b[31m-\u001b[0m \u001b[0m\u001b[1m\u001b[0mid\u001b[0m\u001b[0m       = \"0d1129c9-418e-4e67-9596-e93c30fc4a47\" \u001b[90m->\u001b[0m \u001b[0m\u001b[90mnull\u001b[0m\u001b[0m\n",
      "      \u001b[31m-\u001b[0m \u001b[0m\u001b[1m\u001b[0mname\u001b[0m\u001b[0m     = \"mortgage-model-rf-deployment\" \u001b[90m->\u001b[0m \u001b[0m\u001b[90mnull\u001b[0m\u001b[0m\n",
      "      \u001b[31m-\u001b[0m \u001b[0m\u001b[1m\u001b[0monline\u001b[0m\u001b[0m   = true \u001b[90m->\u001b[0m \u001b[0m\u001b[90mnull\u001b[0m\u001b[0m\n",
      "      \u001b[31m-\u001b[0m \u001b[0m\u001b[1m\u001b[0mspace_id\u001b[0m\u001b[0m = \"9dd079b6-b503-4c77-ae3a-d10bf6d8adae\" \u001b[90m->\u001b[0m \u001b[0m\u001b[90mnull\u001b[0m\u001b[0m\n",
      "      \u001b[31m-\u001b[0m \u001b[0m\u001b[1m\u001b[0murl\u001b[0m\u001b[0m      = \"https://us-south.ml.cloud.ibm.com/ml/v4/deployments/0d1129c9-418e-4e67-9596-e93c30fc4a47/predictions\" \u001b[90m->\u001b[0m \u001b[0m\u001b[90mnull\u001b[0m\u001b[0m\n",
      "    }\n",
      "\n",
      "\u001b[1m  # ibmcpd_model.crossdeploy_mortgagemodel1_075D9387\u001b[0m will be \u001b[1m\u001b[31mdestroyed\u001b[0m\u001b[0m\n",
      "\u001b[0m  \u001b[31m-\u001b[0m\u001b[0m resource \"ibmcpd_model\" \"crossdeploy_mortgagemodel1_075D9387\" {\n",
      "      \u001b[31m-\u001b[0m \u001b[0m\u001b[1m\u001b[0mchecksum\u001b[0m\u001b[0m      = \"99b4478038b1bb1beb1498632a46a66c\" \u001b[90m->\u001b[0m \u001b[0m\u001b[90mnull\u001b[0m\u001b[0m\n",
      "      \u001b[31m-\u001b[0m \u001b[0m\u001b[1m\u001b[0mid\u001b[0m\u001b[0m            = \"cd5fe63b-e19d-4fde-807d-b43ecfc2dc28\" \u001b[90m->\u001b[0m \u001b[0m\u001b[90mnull\u001b[0m\u001b[0m\n",
      "      \u001b[31m-\u001b[0m \u001b[0m\u001b[1m\u001b[0mmodel_path\u001b[0m\u001b[0m    = \"99b4478038b1bb1beb1498632a46a66c.tar.gz\" \u001b[90m->\u001b[0m \u001b[0m\u001b[90mnull\u001b[0m\u001b[0m\n",
      "      \u001b[31m-\u001b[0m \u001b[0m\u001b[1m\u001b[0mname\u001b[0m\u001b[0m          = \"mortgage-model-rf\" \u001b[90m->\u001b[0m \u001b[0m\u001b[90mnull\u001b[0m\u001b[0m\n",
      "      \u001b[31m-\u001b[0m \u001b[0m\u001b[1m\u001b[0mproject_id\u001b[0m\u001b[0m    = \"fc513094-926a-404b-9001-d15a03884123\" \u001b[90m->\u001b[0m \u001b[0m\u001b[90mnull\u001b[0m\u001b[0m\n",
      "      \u001b[31m-\u001b[0m \u001b[0m\u001b[1m\u001b[0msoftware_spec\u001b[0m\u001b[0m = \"runtime-22.2-py3.10\" \u001b[90m->\u001b[0m \u001b[0m\u001b[90mnull\u001b[0m\u001b[0m\n",
      "      \u001b[31m-\u001b[0m \u001b[0m\u001b[1m\u001b[0mtype\u001b[0m\u001b[0m          = \"scikit-learn_1.1\" \u001b[90m->\u001b[0m \u001b[0m\u001b[90mnull\u001b[0m\u001b[0m\n",
      "    }\n",
      "\n",
      "\u001b[1m  # ibmcpd_model.crossdeploy_promotedmodel1_509720E4\u001b[0m will be \u001b[1m\u001b[31mdestroyed\u001b[0m\u001b[0m\n",
      "\u001b[0m  \u001b[31m-\u001b[0m\u001b[0m resource \"ibmcpd_model\" \"crossdeploy_promotedmodel1_509720E4\" {\n",
      "      \u001b[31m-\u001b[0m \u001b[0m\u001b[1m\u001b[0masset_id\u001b[0m\u001b[0m      = \"cd5fe63b-e19d-4fde-807d-b43ecfc2dc28\" \u001b[90m->\u001b[0m \u001b[0m\u001b[90mnull\u001b[0m\u001b[0m\n",
      "      \u001b[31m-\u001b[0m \u001b[0m\u001b[1m\u001b[0mid\u001b[0m\u001b[0m            = \"8860edea-13e1-4086-9453-72a1e340a9f1\" \u001b[90m->\u001b[0m \u001b[0m\u001b[90mnull\u001b[0m\u001b[0m\n",
      "      \u001b[31m-\u001b[0m \u001b[0m\u001b[1m\u001b[0mmodel_path\u001b[0m\u001b[0m    = \"99b4478038b1bb1beb1498632a46a66c.tar.gz\" \u001b[90m->\u001b[0m \u001b[0m\u001b[90mnull\u001b[0m\u001b[0m\n",
      "      \u001b[31m-\u001b[0m \u001b[0m\u001b[1m\u001b[0mname\u001b[0m\u001b[0m          = \"mortgage-model-rf\" \u001b[90m->\u001b[0m \u001b[0m\u001b[90mnull\u001b[0m\u001b[0m\n",
      "      \u001b[31m-\u001b[0m \u001b[0m\u001b[1m\u001b[0mproject_id\u001b[0m\u001b[0m    = \"fc513094-926a-404b-9001-d15a03884123\" \u001b[90m->\u001b[0m \u001b[0m\u001b[90mnull\u001b[0m\u001b[0m\n",
      "      \u001b[31m-\u001b[0m \u001b[0m\u001b[1m\u001b[0msoftware_spec\u001b[0m\u001b[0m = \"runtime-22.2-py3.10\" \u001b[90m->\u001b[0m \u001b[0m\u001b[90mnull\u001b[0m\u001b[0m\n",
      "      \u001b[31m-\u001b[0m \u001b[0m\u001b[1m\u001b[0mspace_id\u001b[0m\u001b[0m      = \"9dd079b6-b503-4c77-ae3a-d10bf6d8adae\" \u001b[90m->\u001b[0m \u001b[0m\u001b[90mnull\u001b[0m\u001b[0m\n",
      "      \u001b[31m-\u001b[0m \u001b[0m\u001b[1m\u001b[0mtype\u001b[0m\u001b[0m          = \"scikit-learn_1.1\" \u001b[90m->\u001b[0m \u001b[0m\u001b[90mnull\u001b[0m\u001b[0m\n",
      "    }\n",
      "\n",
      "\u001b[1m  # ibmcpd_monitor_instance.crossdeploy_driftmonitor_3089CFDB\u001b[0m will be \u001b[1m\u001b[31mdestroyed\u001b[0m\u001b[0m\n",
      "\u001b[0m  \u001b[31m-\u001b[0m\u001b[0m resource \"ibmcpd_monitor_instance\" \"crossdeploy_driftmonitor_3089CFDB\" {\n",
      "      \u001b[31m-\u001b[0m \u001b[0m\u001b[1m\u001b[0mdata_mart_id\u001b[0m\u001b[0m          = \"0adabc21-cf18-48c0-a36c-f7e3f3b092e8\" \u001b[90m->\u001b[0m \u001b[0m\u001b[90mnull\u001b[0m\u001b[0m\n",
      "      \u001b[31m-\u001b[0m \u001b[0m\u001b[1m\u001b[0mid\u001b[0m\u001b[0m                    = \"0518632f-523f-44b2-9bd0-d5646a917dbb\" \u001b[90m->\u001b[0m \u001b[0m\u001b[90mnull\u001b[0m\u001b[0m\n",
      "      \u001b[31m-\u001b[0m \u001b[0m\u001b[1m\u001b[0mmonitor_definition_id\u001b[0m\u001b[0m = \"drift\" \u001b[90m->\u001b[0m \u001b[0m\u001b[90mnull\u001b[0m\u001b[0m\n",
      "      \u001b[31m-\u001b[0m \u001b[0m\u001b[1m\u001b[0mparameters\u001b[0m\u001b[0m            = {\n",
      "          \u001b[31m-\u001b[0m \u001b[0m\u001b[1m\u001b[0mdrift_threshold\u001b[0m\u001b[0m    = 0.1 \u001b[90m->\u001b[0m \u001b[0m\u001b[90mnull\u001b[0m\u001b[0m\n",
      "          \u001b[31m-\u001b[0m \u001b[0m\u001b[1m\u001b[0menable_data_drift\u001b[0m\u001b[0m  = true \u001b[90m->\u001b[0m \u001b[0m\u001b[90mnull\u001b[0m\u001b[0m\n",
      "          \u001b[31m-\u001b[0m \u001b[0m\u001b[1m\u001b[0menable_model_drift\u001b[0m\u001b[0m = true \u001b[90m->\u001b[0m \u001b[0m\u001b[90mnull\u001b[0m\u001b[0m\n",
      "          \u001b[31m-\u001b[0m \u001b[0m\u001b[1m\u001b[0mmin_samples\u001b[0m\u001b[0m        = 100 \u001b[90m->\u001b[0m \u001b[0m\u001b[90mnull\u001b[0m\u001b[0m\n",
      "          \u001b[31m-\u001b[0m \u001b[0m\u001b[1m\u001b[0mtrain_drift_model\u001b[0m\u001b[0m  = true \u001b[90m->\u001b[0m \u001b[0m\u001b[90mnull\u001b[0m\u001b[0m\n",
      "        }\u001b[90m -> null\u001b[0m\u001b[0m\n",
      "      \u001b[31m-\u001b[0m \u001b[0m\u001b[1m\u001b[0msubscription_id\u001b[0m\u001b[0m       = \"b70358fa-5c72-4a16-b376-9d1bc3d23945\" \u001b[90m->\u001b[0m \u001b[0m\u001b[90mnull\u001b[0m\u001b[0m\n",
      "    }\n",
      "\n",
      "\u001b[1m  # ibmcpd_monitor_instance.crossdeploy_explainabilitymonitor_C90B4AD9\u001b[0m will be \u001b[1m\u001b[31mdestroyed\u001b[0m\u001b[0m\n",
      "\u001b[0m  \u001b[31m-\u001b[0m\u001b[0m resource \"ibmcpd_monitor_instance\" \"crossdeploy_explainabilitymonitor_C90B4AD9\" {\n",
      "      \u001b[31m-\u001b[0m \u001b[0m\u001b[1m\u001b[0mdata_mart_id\u001b[0m\u001b[0m          = \"0adabc21-cf18-48c0-a36c-f7e3f3b092e8\" \u001b[90m->\u001b[0m \u001b[0m\u001b[90mnull\u001b[0m\u001b[0m\n",
      "      \u001b[31m-\u001b[0m \u001b[0m\u001b[1m\u001b[0mid\u001b[0m\u001b[0m                    = \"863cca5d-dd52-4680-bfda-4a4e7b178646\" \u001b[90m->\u001b[0m \u001b[0m\u001b[90mnull\u001b[0m\u001b[0m\n",
      "      \u001b[31m-\u001b[0m \u001b[0m\u001b[1m\u001b[0mmonitor_definition_id\u001b[0m\u001b[0m = \"explainability\" \u001b[90m->\u001b[0m \u001b[0m\u001b[90mnull\u001b[0m\u001b[0m\n",
      "      \u001b[31m-\u001b[0m \u001b[0m\u001b[1m\u001b[0mparameters\u001b[0m\u001b[0m            = {\n",
      "          \u001b[31m-\u001b[0m \u001b[0m\u001b[1m\u001b[0menabled\u001b[0m\u001b[0m = true \u001b[90m->\u001b[0m \u001b[0m\u001b[90mnull\u001b[0m\u001b[0m\n",
      "        }\u001b[90m -> null\u001b[0m\u001b[0m\n",
      "      \u001b[31m-\u001b[0m \u001b[0m\u001b[1m\u001b[0msubscription_id\u001b[0m\u001b[0m       = \"b70358fa-5c72-4a16-b376-9d1bc3d23945\" \u001b[90m->\u001b[0m \u001b[0m\u001b[90mnull\u001b[0m\u001b[0m\n",
      "    }\n",
      "\n",
      "\u001b[1m  # ibmcpd_monitor_instance.crossdeploy_fairnessmonitor_9FC430A1\u001b[0m will be \u001b[1m\u001b[31mdestroyed\u001b[0m\u001b[0m\n",
      "\u001b[0m  \u001b[31m-\u001b[0m\u001b[0m resource \"ibmcpd_monitor_instance\" \"crossdeploy_fairnessmonitor_9FC430A1\" {\n",
      "      \u001b[31m-\u001b[0m \u001b[0m\u001b[1m\u001b[0mdata_mart_id\u001b[0m\u001b[0m          = \"0adabc21-cf18-48c0-a36c-f7e3f3b092e8\" \u001b[90m->\u001b[0m \u001b[0m\u001b[90mnull\u001b[0m\u001b[0m\n",
      "      \u001b[31m-\u001b[0m \u001b[0m\u001b[1m\u001b[0mid\u001b[0m\u001b[0m                    = \"8f810f17-fa89-4832-9138-b3fd57780a03\" \u001b[90m->\u001b[0m \u001b[0m\u001b[90mnull\u001b[0m\u001b[0m\n",
      "      \u001b[31m-\u001b[0m \u001b[0m\u001b[1m\u001b[0mmonitor_definition_id\u001b[0m\u001b[0m = \"fairness\" \u001b[90m->\u001b[0m \u001b[0m\u001b[90mnull\u001b[0m\u001b[0m\n",
      "      \u001b[31m-\u001b[0m \u001b[0m\u001b[1m\u001b[0mparameters\u001b[0m\u001b[0m            = {\n",
      "          \u001b[31m-\u001b[0m \u001b[0m\u001b[1m\u001b[0"
     ]
    }
   ],
   "source": [
    "# model_monitor.destroy()"
   ]
  }
 ],
 "metadata": {
  "kernelspec": {
   "display_name": "base",
   "language": "python",
   "name": "python3"
  },
  "language_info": {
   "codemirror_mode": {
    "name": "ipython",
    "version": 3
   },
   "file_extension": ".py",
   "mimetype": "text/x-python",
   "name": "python",
   "nbconvert_exporter": "python",
   "pygments_lexer": "ipython3",
   "version": "3.8.8 (default, Apr 13 2021, 15:08:03) [MSC v.1916 64 bit (AMD64)]"
  },
  "vscode": {
   "interpreter": {
    "hash": "e4cce46d6be9934fbd27f9ca0432556941ea5bdf741d4f4d64c6cd7f8dfa8fba"
   }
  }
 },
 "nbformat": 4,
 "nbformat_minor": 4
}
