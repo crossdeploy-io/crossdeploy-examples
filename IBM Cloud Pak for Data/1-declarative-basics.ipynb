{
 "cells": [
  {
   "cell_type": "code",
   "execution_count": null,
   "metadata": {
    "id": "e305d706-8c0b-4bde-bc67-78bb24a87544",
    "tags": []
   },
   "outputs": [],
   "source": [
    "# Install the latest version of crossdeploy\n",
    "! pip install --upgrade crossdeploy\n",
    "\n",
    "# Node is installed by default in Watson Studio, JupyterLab and JupyterNotebook environments. \n",
    "# However, in case your environment does not have node installed, it can be installed with the below command.\n",
    "# ! pip install \"nodejs-bin[cmd]\""
   ]
  },
  {
   "cell_type": "markdown",
   "metadata": {
    "id": "7565206f-041d-4da2-83e0-8e413f6edb56"
   },
   "source": [
    "# Example 1: Understanding how declarative approach works\n",
    "\n",
    "There are 3 parts to do this example,\n",
    "\n",
    "- Part A: Running the same code repeatly\n",
    "\n",
    "- Part B: Modifying the model name\n",
    "\n",
    "- Part C: Modifying the model's hyperparameter\n"
   ]
  },
  {
   "cell_type": "markdown",
   "metadata": {
    "id": "e65fbbc1-135d-4b87-a8eb-a74f1c4d9fa6"
   },
   "source": [
    "# Imports"
   ]
  },
  {
   "cell_type": "code",
   "execution_count": null,
   "metadata": {
    "id": "96788d40-bb7b-4c01-be63-2dacc5032b2d",
    "tags": []
   },
   "outputs": [],
   "source": [
    "import pandas as pd\n",
    "\n",
    "from crossdeploy.utils import utils\n",
    "from crossdeploy.crossdeploy import CrossDeploy\n",
    "\n",
    "from sklearn.pipeline import Pipeline\n",
    "from sklearn.ensemble import RandomForestClassifier\n",
    "from sklearn.preprocessing import OneHotEncoder\n",
    "from sklearn.compose import make_column_selector, make_column_transformer"
   ]
  },
  {
   "cell_type": "markdown",
   "metadata": {
    "id": "22e16462-70a9-4c71-89ec-d2cbc3dce52a"
   },
   "source": [
    "# Define variables"
   ]
  },
  {
   "cell_type": "code",
   "execution_count": null,
   "metadata": {
    "id": "23da4c9a-bf87-452e-b6c9-0266f471cb10",
    "tags": []
   },
   "outputs": [],
   "source": [
    "CPD_API_KEY = \"xxx\" # or CPD_PASSWORD = \"xxx\"\n",
    "CPD_USERNAME = \"admin\"\n",
    "CPD_URL = \"https://cpd-cpd.itzroks-550003aw18-bwcq3a-6ccd7f378ae819553d37d5f2ee142bd6-0000.au-syd.containers.appdomain.cloud\"\n",
    "PROJECT_ID = \"75c938f9-cc5f-45a9-b44f-3f1b51a69516\""
   ]
  },
  {
   "cell_type": "markdown",
   "metadata": {
    "id": "d50a3619-c06e-4661-ac62-05db1a8f1cc2"
   },
   "source": [
    "# Import data and preprocessing step"
   ]
  },
  {
   "cell_type": "code",
   "execution_count": null,
   "metadata": {
    "id": "3f487210-a0a4-42af-b9ad-e0d812b7cb4e",
    "tags": []
   },
   "outputs": [],
   "source": [
    "df = pd.read_csv(\"https://raw.githubusercontent.com/crossdeploy-io/crossdeploy-examples/main/data/mortgage-default.csv\")\n",
    "\n",
    "label_column = \"MortgageDefault\"\n",
    "y = df[label_column]\n",
    "X = df.drop(label_column, axis=1)\n",
    "\n",
    "ct = make_column_transformer(\n",
    "    (OneHotEncoder(), make_column_selector(dtype_include=object)),\n",
    "    remainder=\"passthrough\"\n",
    ")"
   ]
  },
  {
   "cell_type": "markdown",
   "metadata": {
    "id": "c9dbb7a4-31bf-45be-9e6e-75a5e24c6865"
   },
   "source": [
    "# Part A: Running the same code repeatedly\n",
    "\n",
    "Running the code below repeatedly, will result in one model being created in your project.\n",
    "\n",
    "Note that the model id, always remains the same."
   ]
  },
  {
   "cell_type": "code",
   "execution_count": null,
   "metadata": {
    "id": "9c262d02-1d00-4a80-891b-bd31c3af1721",
    "tags": []
   },
   "outputs": [],
   "source": [
    "MODEL_NAME = \"mortgage-model-rf\"\n",
    "\n",
    "model = Pipeline(steps=[\n",
    "    (\"transform\", ct), \n",
    "    (\"clf\", RandomForestClassifier(n_estimators=3, max_depth=3, random_state=12345))\n",
    "])\n",
    "model.fit(X, y)\n",
    "model.score(X, y)\n",
    "\n",
    "flow = CrossDeploy()\n",
    "\n",
    "flow.ibm.Provider(url=CPD_URL, username=CPD_USERNAME, api_key=CPD_API_KEY) # or password=CPD_PASSWORD\n",
    "\n",
    "model_rf = flow.ibm.Model(model)(\n",
    "    id = \"mortgage-model-rf\",\n",
    "    name = MODEL_NAME,\n",
    "    project_id = PROJECT_ID,\n",
    ")\n",
    "\n",
    "flow.apply()\n",
    "\n",
    "model_state = utils.get_resource_by_name(model_rf.friendly_unique_id)\n",
    "\n",
    "print()\n",
    "print(f\"Model ID: {model_state['id']}\")"
   ]
  },
  {
   "cell_type": "markdown",
   "metadata": {
    "id": "b6f6e5d8-8aba-4347-ae3b-6d1b502267b9"
   },
   "source": [
    "# Part B: Modifying the model name\n",
    "\n",
    "Try modifying the `MODEL_NAME` and running the code.\n",
    "\n",
    "You should see that it only results in an update instead of recreating a model.\n",
    "\n",
    "In addition, the model id remains the same as the earlier example."
   ]
  },
  {
   "cell_type": "code",
   "execution_count": null,
   "metadata": {
    "id": "67d97fd8-c1b1-4fcf-a5fc-cccd46be2c8c",
    "tags": []
   },
   "outputs": [],
   "source": [
    "MODEL_NAME = \"mortgage-model\"\n",
    "\n",
    "model = Pipeline(steps=[\n",
    "    (\"transform\", ct), \n",
    "    (\"clf\", RandomForestClassifier(n_estimators=3, max_depth=3, random_state=12345))\n",
    "])\n",
    "model.fit(X, y)\n",
    "model.score(X, y)\n",
    "\n",
    "flow = CrossDeploy()\n",
    "\n",
    "flow.ibm.Provider(url=CPD_URL, username=CPD_USERNAME, api_key=CPD_API_KEY)\n",
    "\n",
    "model_rf = flow.ibm.Model(model)(\n",
    "    id = \"mortgage-model-rf\",\n",
    "    name = MODEL_NAME,\n",
    "    project_id = PROJECT_ID,\n",
    ")\n",
    "\n",
    "flow.apply()\n",
    "\n",
    "model_state = utils.get_resource_by_name(model_rf.friendly_unique_id)\n",
    "\n",
    "print()\n",
    "print(f\"Model ID:   {model_state['id']}\")\n",
    "print(f\"Model Name: {model_state['name']}\")"
   ]
  },
  {
   "cell_type": "markdown",
   "metadata": {
    "id": "f7e1aef7-c2c6-4ee3-b5ce-2880dfa8bafd"
   },
   "source": [
    "# Part C: Modifying the model's hyperparameter\n",
    "\n",
    "Change`n_estimators` or `max_depth` to another value.\n",
    "\n",
    "This is basically a new version of the model as training the model with new hyperparameters is a significant change.\n",
    "\n",
    "In this case, you should see that the model is destroyed and recreated. A new model id will be produced."
   ]
  },
  {
   "cell_type": "code",
   "execution_count": null,
   "metadata": {
    "id": "65c446bf-e378-4d36-b043-a48f130c9f65",
    "tags": []
   },
   "outputs": [],
   "source": [
    "MODEL_NAME = \"mortgage-model-rf\"\n",
    "\n",
    "model = Pipeline(steps=[\n",
    "    (\"transform\", ct), \n",
    "    (\"clf\", RandomForestClassifier(n_estimators=3, max_depth=10, random_state=12345))\n",
    "])\n",
    "model.fit(X, y)\n",
    "model.score(X, y)\n",
    "\n",
    "flow = CrossDeploy()\n",
    "\n",
    "flow.ibm.Provider(url=CPD_URL, username=CPD_USERNAME, api_key=CPD_API_KEY)\n",
    "\n",
    "model_rf = flow.ibm.Model(model)(\n",
    "    id = \"mortgage-model-rf\",\n",
    "    name = MODEL_NAME,\n",
    "    project_id = PROJECT_ID,\n",
    ")\n",
    "\n",
    "flow.apply()\n",
    "\n",
    "model_state = utils.get_resource_by_name(model_rf.friendly_unique_id)\n",
    "\n",
    "print()\n",
    "print(f\"Model ID: {model_state['id']}\")"
   ]
  },
  {
   "cell_type": "markdown",
   "metadata": {
    "id": "9836f594-f180-45b9-b892-fe4e6563e268"
   },
   "source": [
    "# Clean up"
   ]
  },
  {
   "cell_type": "code",
   "execution_count": null,
   "metadata": {
    "id": "a40fb8de-8e53-40c4-8ed3-e32678fa90c2",
    "tags": []
   },
   "outputs": [],
   "source": [
    "flow.destroy()"
   ]
  }
 ],
 "metadata": {
  "kernelspec": {
   "display_name": "Python 3.10",
   "language": "python",
   "name": "python3"
  },
  "language_info": {
   "codemirror_mode": {
    "name": "ipython",
    "version": 3
   },
   "file_extension": ".py",
   "mimetype": "text/x-python",
   "name": "python",
   "nbconvert_exporter": "python",
   "pygments_lexer": "ipython3",
   "version": "3.10.8 | packaged by conda-forge | (main, Nov 24 2022, 14:07:00) [MSC v.1916 64 bit (AMD64)]"
  },
  "vscode": {
   "interpreter": {
    "hash": "2fd8ffa6155755da6e46d79320aeff097111fde3e362ae0d899ff1703ff23477"
   }
  }
 },
 "nbformat": 4,
 "nbformat_minor": 4
}
