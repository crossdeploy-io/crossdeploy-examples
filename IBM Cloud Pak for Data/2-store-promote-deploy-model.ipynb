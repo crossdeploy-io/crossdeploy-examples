{
 "cells": [
  {
   "cell_type": "code",
   "execution_count": 1,
   "metadata": {
    "id": "e305d706-8c0b-4bde-bc67-78bb24a87544",
    "tags": []
   },
   "outputs": [
    {
     "name": "stdout",
     "output_type": "stream",
     "text": [
      "Collecting crossdeploy\n",
      "  Downloading crossdeploy-0.1.6-cp310-cp310-manylinux_2_5_x86_64.manylinux1_x86_64.manylinux_2_17_x86_64.manylinux2014_x86_64.whl (63.1 MB)\n",
      "\u001b[2K     \u001b[90m━━━━━━━━━━━━━━━━━━━━━━━━━━━━━━━━━━━━━━━━\u001b[0m \u001b[32m63.1/63.1 MB\u001b[0m \u001b[31m28.1 MB/s\u001b[0m eta \u001b[36m0:00:00\u001b[0m00:01\u001b[0m00:01\u001b[0m\n",
      "\u001b[?25hCollecting jsii\n",
      "  Downloading jsii-1.73.0-py3-none-any.whl (570 kB)\n",
      "\u001b[2K     \u001b[90m━━━━━━━━━━━━━━━━━━━━━━━━━━━━━━━━━━━━━━\u001b[0m \u001b[32m571.0/571.0 kB\u001b[0m \u001b[31m43.9 MB/s\u001b[0m eta \u001b[36m0:00:00\u001b[0m\n",
      "\u001b[?25hCollecting constructs\n",
      "  Downloading constructs-10.1.221-py3-none-any.whl (57 kB)\n",
      "\u001b[2K     \u001b[90m━━━━━━━━━━━━━━━━━━━━━━━━━━━━━━━━━━━━━━━━\u001b[0m \u001b[32m57.8/57.8 kB\u001b[0m \u001b[31m15.1 MB/s\u001b[0m eta \u001b[36m0:00:00\u001b[0m\n",
      "\u001b[?25hCollecting typeguard~=2.13.3\n",
      "  Downloading typeguard-2.13.3-py3-none-any.whl (17 kB)\n",
      "Collecting publication>=0.0.3\n",
      "  Downloading publication-0.0.3-py2.py3-none-any.whl (7.7 kB)\n",
      "Requirement already satisfied: attrs<23.0,>=21.2 in /opt/conda/envs/Python-3.10-Premium/lib/python3.10/site-packages (from jsii->crossdeploy) (21.4.0)\n",
      "Requirement already satisfied: python-dateutil in /opt/conda/envs/Python-3.10-Premium/lib/python3.10/site-packages (from jsii->crossdeploy) (2.8.2)\n",
      "Requirement already satisfied: typing-extensions<5.0,>=3.7 in /opt/conda/envs/Python-3.10-Premium/lib/python3.10/site-packages (from jsii->crossdeploy) (4.3.0)\n",
      "Collecting cattrs<22.3,>=1.8\n",
      "  Downloading cattrs-22.2.0-py3-none-any.whl (35 kB)\n",
      "Collecting exceptiongroup\n",
      "  Downloading exceptiongroup-1.1.0-py3-none-any.whl (14 kB)\n",
      "Requirement already satisfied: six>=1.5 in /opt/conda/envs/Python-3.10-Premium/lib/python3.10/site-packages (from python-dateutil->jsii->crossdeploy) (1.16.0)\n",
      "Installing collected packages: publication, typeguard, exceptiongroup, cattrs, jsii, constructs, crossdeploy\n",
      "  Attempting uninstall: typeguard\n",
      "    Found existing installation: typeguard 2.12.0\n",
      "    Uninstalling typeguard-2.12.0:\n",
      "      Successfully uninstalled typeguard-2.12.0\n",
      "Successfully installed cattrs-22.2.0 constructs-10.1.221 crossdeploy-0.1.6 exceptiongroup-1.1.0 jsii-1.73.0 publication-0.0.3 typeguard-2.13.3\n"
     ]
    }
   ],
   "source": [
    "# Install the latest version of crossdeploy\n",
    "! pip install --upgrade crossdeploy\n",
    "\n",
    "# Node is installed by default in Watson Studio, JupyterLab and JupyterNotebook environments. \n",
    "# However, in case your environment does not have node installed, it can be installed with the below command.\n",
    "# ! pip install \"nodejs-bin[cmd]\""
   ]
  },
  {
   "cell_type": "markdown",
   "metadata": {
    "id": "7565206f-041d-4da2-83e0-8e413f6edb56"
   },
   "source": [
    "# Example 2: Build, promote and deploy a model\n",
    "\n",
    "In this example, we will build, promote and deploy a simple SKLearn pipeline model."
   ]
  },
  {
   "cell_type": "markdown",
   "metadata": {
    "id": "e65fbbc1-135d-4b87-a8eb-a74f1c4d9fa6"
   },
   "source": [
    "# Imports"
   ]
  },
  {
   "cell_type": "code",
   "execution_count": 2,
   "metadata": {
    "id": "96788d40-bb7b-4c01-be63-2dacc5032b2d",
    "tags": []
   },
   "outputs": [],
   "source": [
    "import pandas as pd\n",
    "\n",
    "from crossdeploy.utils import utils\n",
    "from crossdeploy.crossdeploy import CrossDeploy\n",
    "\n",
    "from sklearn.pipeline import Pipeline\n",
    "from sklearn.ensemble import RandomForestClassifier\n",
    "from sklearn.preprocessing import OneHotEncoder\n",
    "from sklearn.compose import make_column_selector, make_column_transformer\n",
    "\n",
    "import ibm_watson_machine_learning"
   ]
  },
  {
   "cell_type": "markdown",
   "metadata": {
    "id": "22e16462-70a9-4c71-89ec-d2cbc3dce52a"
   },
   "source": [
    "# Define variables"
   ]
  },
  {
   "cell_type": "code",
   "execution_count": 3,
   "metadata": {
    "id": "23da4c9a-bf87-452e-b6c9-0266f471cb10",
    "tags": []
   },
   "outputs": [],
   "source": [
    "CPD_API_KEY = \"xxx\" # or CPD_PASSWORD = \"xxx\"\n",
    "CPD_USERNAME = \"admin\"\n",
    "CPD_URL = \"https://cpd-cpd.itzroks-550003aw18-bwcq3a-6ccd7f378ae819553d37d5f2ee142bd6-0000.au-syd.containers.appdomain.cloud\"\n",
    "PROJECT_ID = \"75c938f9-cc5f-45a9-b44f-3f1b51a69516\"\n",
    "SPACE_ID = \"c80c0f20-ce3e-45fe-a0ae-e8012abffd81\"\n",
    "\n",
    "wml_credentials = {\"username\": CPD_USERNAME, \"apikey\": CPD_API_KEY, \"url\": CPD_URL, \"instance_id\": \"openshift\", \"version\": \"4.6\"}\n",
    "wml_client = ibm_watson_machine_learning.APIClient(wml_credentials)"
   ]
  },
  {
   "cell_type": "markdown",
   "metadata": {
    "id": "d50a3619-c06e-4661-ac62-05db1a8f1cc2"
   },
   "source": [
    "# Import data and preprocessing step"
   ]
  },
  {
   "cell_type": "code",
   "execution_count": 4,
   "metadata": {
    "id": "3f487210-a0a4-42af-b9ad-e0d812b7cb4e",
    "tags": []
   },
   "outputs": [],
   "source": [
    "df = pd.read_csv(\"https://raw.githubusercontent.com/crossdeploy-io/crossdeploy-examples/main/data/mortgage-default.csv\")\n",
    "\n",
    "label_column = \"MortgageDefault\"\n",
    "y = df[label_column]\n",
    "X = df.drop(label_column, axis=1)\n",
    "\n",
    "ct = make_column_transformer(\n",
    "    (OneHotEncoder(), make_column_selector(dtype_include=object)),\n",
    "    remainder=\"passthrough\"\n",
    ")"
   ]
  },
  {
   "cell_type": "markdown",
   "metadata": {
    "id": "70cb481d-bc14-40a7-a578-dd0999eb81ee",
    "tags": []
   },
   "source": [
    "# Build model"
   ]
  },
  {
   "cell_type": "code",
   "execution_count": 10,
   "metadata": {
    "id": "c09f575c-483b-44c3-b25a-22e9fd1a5d09",
    "tags": []
   },
   "outputs": [
    {
     "data": {
      "text/plain": [
       "0.639618138424821"
      ]
     },
     "execution_count": 10,
     "metadata": {},
     "output_type": "execute_result"
    }
   ],
   "source": [
    "model = Pipeline(steps=[\n",
    "    (\"transform\", ct), \n",
    "    (\"clf\", RandomForestClassifier(n_estimators=3, max_depth=3, random_state=12345))\n",
    "])\n",
    "model.fit(X, y)\n",
    "model.score(X, y)"
   ]
  },
  {
   "cell_type": "markdown",
   "metadata": {
    "id": "4c8ab7f2-da52-4201-aa80-677bd9b6a341"
   },
   "source": [
    "# Save, promote and deploy model\n",
    "\n",
    "Making changes, `MODEL_NAME` or `DEPLOYMENT_NAME`, will result in an update as there is no material impact to the underlying asset.\n",
    "\n",
    "However, when the model is trained with new hyperparameters, this will result in destroy, the current version of the model and its promoted asset, creating and promoting a new model and updating the underlying asset of the existing deployment."
   ]
  },
  {
   "cell_type": "code",
   "execution_count": 11,
   "metadata": {
    "id": "81bc5b86-5d60-4ca3-aa0f-738408c7a7d9",
    "tags": []
   },
   "outputs": [
    {
     "name": "stdout",
     "output_type": "stream",
     "text": [
      "Applying ...\n",
      "\u001b[0m\u001b[1mibmcpd_model.crossdeploy_mortgagemodelrf_D0A9BA80: Refreshing state... [id=624f7965-7862-4412-a82c-8c2144ed7704]\u001b[0m\n",
      "\u001b[0m\u001b[1mibmcpd_model.crossdeploy_mortgagemodelrfpromoted_9850AEA8: Refreshing state... [id=cf64ea0e-4ab0-4a0e-aa80-826009520171]\u001b[0m\n",
      "\u001b[0m\u001b[1mibmcpd_deployment.crossdeploy_mortgagedeploymentrf_58AD9F47: Refreshing state... [id=c67283fc-693b-4f92-8042-6fb481e2f48d]\u001b[0m\n",
      "\n",
      "Terraform used the selected providers to generate the following execution\n",
      "plan. Resource actions are indicated with the following symbols:\n",
      "  \u001b[33m~\u001b[0m update in-place\n",
      "\u001b[32m+\u001b[0m/\u001b[31m-\u001b[0m create replacement and then destroy\n",
      "\u001b[0m\n",
      "Terraform will perform the following actions:\n",
      "\n",
      "\u001b[1m  # ibmcpd_deployment.crossdeploy_mortgagedeploymentrf_58AD9F47\u001b[0m will be updated in-place\u001b[0m\u001b[0m\n",
      "\u001b[0m  \u001b[33m~\u001b[0m\u001b[0m resource \"ibmcpd_deployment\" \"crossdeploy_mortgagedeploymentrf_58AD9F47\" {\n",
      "      \u001b[33m~\u001b[0m \u001b[0m\u001b[1m\u001b[0masset\u001b[0m\u001b[0m    = \"cf64ea0e-4ab0-4a0e-aa80-826009520171\" \u001b[33m->\u001b[0m \u001b[0m(known after apply)\n",
      "        \u001b[1m\u001b[0mid\u001b[0m\u001b[0m       = \"c67283fc-693b-4f92-8042-6fb481e2f48d\"\n",
      "        \u001b[1m\u001b[0mname\u001b[0m\u001b[0m     = \"mortgage-model-rf\"\n",
      "      \u001b[33m~\u001b[0m \u001b[0m\u001b[1m\u001b[0murl\u001b[0m\u001b[0m      = \"https://cpd-cpd.itzroks-550003aw18-bwcq3a-6ccd7f378ae819553d37d5f2ee142bd6-0000.au-syd.containers.appdomain.cloud/ml/v4/deployments/c67283fc-693b-4f92-8042-6fb481e2f48d/predictions\" \u001b[33m->\u001b[0m \u001b[0m(known after apply)\n",
      "        \u001b[90m# (2 unchanged attributes hidden)\u001b[0m\u001b[0m\n",
      "    }\n",
      "\n",
      "\u001b[1m  # ibmcpd_model.crossdeploy_mortgagemodelrf_D0A9BA80\u001b[0m must be \u001b[1m\u001b[31mreplaced\u001b[0m\u001b[0m\n",
      "\u001b[0m\u001b[32m+\u001b[0m/\u001b[31m-\u001b[0m\u001b[0m resource \"ibmcpd_model\" \"crossdeploy_mortgagemodelrf_D0A9BA80\" {\n",
      "      \u001b[33m~\u001b[0m \u001b[0m\u001b[1m\u001b[0mchecksum\u001b[0m\u001b[0m      = \"99b4478038b1bb1beb1498632a46a66c\" \u001b[33m->\u001b[0m \u001b[0m\"dfef315f632960684a95b017c32ea912\" \u001b[31m# forces replacement\u001b[0m\u001b[0m\n",
      "      \u001b[33m~\u001b[0m \u001b[0m\u001b[1m\u001b[0mid\u001b[0m\u001b[0m            = \"624f7965-7862-4412-a82c-8c2144ed7704\" \u001b[33m->\u001b[0m \u001b[0m(known after apply)\n",
      "      \u001b[33m~\u001b[0m \u001b[0m\u001b[1m\u001b[0mmodel_path\u001b[0m\u001b[0m    = \"99b4478038b1bb1beb1498632a46a66c.tar.gz\" \u001b[33m->\u001b[0m \u001b[0m\"dfef315f632960684a95b017c32ea912.tar.gz\" \u001b[31m# forces replacement\u001b[0m\u001b[0m\n",
      "        \u001b[1m\u001b[0mname\u001b[0m\u001b[0m          = \"mortgage-model-rf\"\n",
      "        \u001b[90m# (3 unchanged attributes hidden)\u001b[0m\u001b[0m\n",
      "    }\n",
      "\n",
      "\u001b[1m  # ibmcpd_model.crossdeploy_mortgagemodelrfpromoted_9850AEA8\u001b[0m must be \u001b[1m\u001b[31mreplaced\u001b[0m\u001b[0m\n",
      "\u001b[0m\u001b[32m+\u001b[0m/\u001b[31m-\u001b[0m\u001b[0m resource \"ibmcpd_model\" \"crossdeploy_mortgagemodelrfpromoted_9850AEA8\" {\n",
      "      \u001b[33m~\u001b[0m \u001b[0m\u001b[1m\u001b[0masset_id\u001b[0m\u001b[0m      = \"624f7965-7862-4412-a82c-8c2144ed7704\" \u001b[33m->\u001b[0m \u001b[0m(known after apply) \u001b[31m# forces replacement\u001b[0m\u001b[0m\n",
      "      \u001b[33m~\u001b[0m \u001b[0m\u001b[1m\u001b[0mid\u001b[0m\u001b[0m            = \"cf64ea0e-4ab0-4a0e-aa80-826009520171\" \u001b[33m->\u001b[0m \u001b[0m(known after apply)\n",
      "      \u001b[33m~\u001b[0m \u001b[0m\u001b[1m\u001b[0mmodel_path\u001b[0m\u001b[0m    = \"99b4478038b1bb1beb1498632a46a66c.tar.gz\" \u001b[33m->\u001b[0m \u001b[0m\"dfef315f632960684a95b017c32ea912.tar.gz\" \u001b[31m# forces replacement\u001b[0m\u001b[0m\n",
      "        \u001b[1m\u001b[0mname\u001b[0m\u001b[0m          = \"mortgage-model-rf\"\n",
      "        \u001b[90m# (4 unchanged attributes hidden)\u001b[0m\u001b[0m\n",
      "    }\n",
      "\n",
      "\u001b[0m\u001b[1mPlan:\u001b[0m 2 to add, 1 to change, 2 to destroy.\n",
      "\u001b[0m\u001b[0m\u001b[1mibmcpd_model.crossdeploy_mortgagemodelrf_D0A9BA80: Creating...\u001b[0m\u001b[0m\n",
      "\u001b[0m\u001b[1mibmcpd_model.crossdeploy_mortgagemodelrf_D0A9BA80: Creation complete after 2s [id=86131972-189b-49a1-9a8b-4bbc3afb7589]\u001b[0m\n",
      "\u001b[0m\u001b[1mibmcpd_model.crossdeploy_mortgagemodelrfpromoted_9850AEA8: Creating...\u001b[0m\u001b[0m\n",
      "\u001b[0m\u001b[1mibmcpd_model.crossdeploy_mortgagemodelrfpromoted_9850AEA8: Creation complete after 4s [id=3f6fea77-5209-4791-b278-9dc2a6502ba5]\u001b[0m\n",
      "\u001b[0m\u001b[1mibmcpd_deployment.crossdeploy_mortgagedeploymentrf_58AD9F47: Modifying... [id=c67283fc-693b-4f92-8042-6fb481e2f48d]\u001b[0m\u001b[0m\n",
      "\u001b[0m\u001b[1mibmcpd_deployment.crossdeploy_mortgagedeploymentrf_58AD9F47: Modifications complete after 1s [id=c67283fc-693b-4f92-8042-6fb481e2f48d]\u001b[0m\n",
      "\u001b[0m\u001b[1mibmcpd_model.crossdeploy_mortgagemodelrfpromoted_9850AEA8 (deposed object 79774e52): Destroying... [id=cf64ea0e-4ab0-4a0e-aa80-826009520171]\u001b[0m\u001b[0m\n",
      "\u001b[0m\u001b[1mibmcpd_model.crossdeploy_mortgagemodelrfpromoted_9850AEA8: Destruction complete after 1s\u001b[0m\n",
      "\u001b[0m\u001b[1mibmcpd_model.crossdeploy_mortgagemodelrf_D0A9BA80 (deposed object 23e4d89d): Destroying... [id=624f7965-7862-4412-a82c-8c2144ed7704]\u001b[0m\u001b[0m\n",
      "\u001b[0m\u001b[1mibmcpd_model.crossdeploy_mortgagemodelrf_D0A9BA80: Destruction complete after 1s\u001b[0m\n",
      "\u001b[0m\u001b[1m\u001b[32m\n",
      "Apply complete! Resources: 2 added, 1 changed, 2 destroyed.\n",
      "\u001b[0m\n",
      "Deployment ID: c67283fc-693b-4f92-8042-6fb481e2f48d\n"
     ]
    }
   ],
   "source": [
    "MODEL_NAME = \"mortgage-model-rf\"\n",
    "DEPLOYMENT_NAME = \"mortgage-model-rf\"\n",
    "\n",
    "flow = CrossDeploy()\n",
    "\n",
    "flow.ibm.Provider(url=CPD_URL, username=CPD_USERNAME, api_key=CPD_API_KEY) # or password=CPD_PASSWORD\n",
    "\n",
    "model_rf = flow.ibm.Model(model)(\n",
    "    id = \"mortgage-model-rf\",\n",
    "    name = MODEL_NAME,\n",
    "    project_id = PROJECT_ID,\n",
    ")\n",
    "\n",
    "promoted_model_rf = flow.ibm.PromotedModel(model_rf)(\n",
    "    id = \"mortgage-model-rf-promoted\",\n",
    "    project_id = PROJECT_ID,\n",
    "    space_id = SPACE_ID,\n",
    "    asset_id = model_rf.id,\n",
    ")\n",
    "\n",
    "deployment = flow.ibm.Deployment(\n",
    "    id = \"mortgage-deployment-rf\",\n",
    "    name = DEPLOYMENT_NAME,\n",
    "    space_id = SPACE_ID,\n",
    "    asset = promoted_model_rf.id,\n",
    "    online = True,\n",
    ")\n",
    "\n",
    "flow.apply()\n",
    "\n",
    "deployment_state = utils.get_resource_by_name(deployment.friendly_unique_id)\n",
    "\n",
    "print()\n",
    "print(f\"Deployment ID: {deployment_state['id']}\")"
   ]
  },
  {
   "cell_type": "markdown",
   "metadata": {
    "id": "c096e325-ffbc-4d47-a270-b2ee39a02f97"
   },
   "source": [
    "# Score model"
   ]
  },
  {
   "cell_type": "code",
   "execution_count": 13,
   "metadata": {
    "id": "8aeb8aad-c896-4536-9423-252b4ec44ae2",
    "tags": []
   },
   "outputs": [
    {
     "data": {
      "text/plain": [
       "{'predictions': [{'fields': ['prediction', 'probability'],\n",
       "   'values': [['NO', [1.0, 0.0]],\n",
       "    ['YES', [0.3333333333333333, 0.6666666666666666]],\n",
       "    ['NO', [1.0, 0.0]],\n",
       "    ['NO', [0.6666666666666666, 0.3333333333333333]],\n",
       "    ['NO', [1.0, 0.0]]]}]}"
      ]
     },
     "execution_count": 13,
     "metadata": {},
     "output_type": "execute_result"
    }
   ],
   "source": [
    "wml_client.set.default_space(SPACE_ID)\n",
    "\n",
    "deployment_state = utils.get_resource_by_name(deployment.friendly_unique_id)\n",
    "\n",
    "deployment_id = deployment_state[\"id\"]\n",
    "\n",
    "payload = {\"input_data\": [{\"values\": X.head()}]}\n",
    "\n",
    "wml_client.deployments.score(deployment_id, payload)\n"
   ]
  },
  {
   "cell_type": "markdown",
   "metadata": {
    "id": "0ff65b6a-3c68-4608-a848-1501f029da61"
   },
   "source": [
    "# Clean up"
   ]
  },
  {
   "cell_type": "code",
   "execution_count": 12,
   "metadata": {
    "id": "bfb04b8f-9487-403d-866c-4d80b867fbf6",
    "tags": []
   },
   "outputs": [
    {
     "name": "stdout",
     "output_type": "stream",
     "text": [
      "Destroying ...\n",
      "\u001b[0m\u001b[1mibmcpd_model.crossdeploy_mortgagemodelrf_D0A9BA80: Refreshing state... [id=86131972-189b-49a1-9a8b-4bbc3afb7589]\u001b[0m\n",
      "\u001b[0m\u001b[1mibmcpd_model.crossdeploy_mortgagemodelrfpromoted_9850AEA8: Refreshing state... [id=3f6fea77-5209-4791-b278-9dc2a6502ba5]\u001b[0m\n",
      "\u001b[0m\u001b[1mibmcpd_deployment.crossdeploy_mortgagedeploymentrf_58AD9F47: Refreshing state... [id=c67283fc-693b-4f92-8042-6fb481e2f48d]\u001b[0m\n",
      "\n",
      "Terraform used the selected providers to generate the following execution\n",
      "plan. Resource actions are indicated with the following symbols:\n",
      "  \u001b[31m-\u001b[0m destroy\n",
      "\u001b[0m\n",
      "Terraform will perform the following actions:\n",
      "\n",
      "\u001b[1m  # ibmcpd_deployment.crossdeploy_mortgagedeploymentrf_58AD9F47\u001b[0m will be \u001b[1m\u001b[31mdestroyed\u001b[0m\u001b[0m\n",
      "\u001b[0m  \u001b[31m-\u001b[0m\u001b[0m resource \"ibmcpd_deployment\" \"crossdeploy_mortgagedeploymentrf_58AD9F47\" {\n",
      "      \u001b[31m-\u001b[0m \u001b[0m\u001b[1m\u001b[0masset\u001b[0m\u001b[0m    = \"3f6fea77-5209-4791-b278-9dc2a6502ba5\" \u001b[90m->\u001b[0m \u001b[0m\u001b[90mnull\u001b[0m\u001b[0m\n",
      "      \u001b[31m-\u001b[0m \u001b[0m\u001b[1m\u001b[0mid\u001b[0m\u001b[0m       = \"c67283fc-693b-4f92-8042-6fb481e2f48d\" \u001b[90m->\u001b[0m \u001b[0m\u001b[90mnull\u001b[0m\u001b[0m\n",
      "      \u001b[31m-\u001b[0m \u001b[0m\u001b[1m\u001b[0mname\u001b[0m\u001b[0m     = \"mortgage-model-rf\" \u001b[90m->\u001b[0m \u001b[0m\u001b[90mnull\u001b[0m\u001b[0m\n",
      "      \u001b[31m-\u001b[0m \u001b[0m\u001b[1m\u001b[0monline\u001b[0m\u001b[0m   = true \u001b[90m->\u001b[0m \u001b[0m\u001b[90mnull\u001b[0m\u001b[0m\n",
      "      \u001b[31m-\u001b[0m \u001b[0m\u001b[1m\u001b[0mspace_id\u001b[0m\u001b[0m = \"c80c0f20-ce3e-45fe-a0ae-e8012abffd81\" \u001b[90m->\u001b[0m \u001b[0m\u001b[90mnull\u001b[0m\u001b[0m\n",
      "      \u001b[31m-\u001b[0m \u001b[0m\u001b[1m\u001b[0murl\u001b[0m\u001b[0m      = \"https://cpd-cpd.itzroks-550003aw18-bwcq3a-6ccd7f378ae819553d37d5f2ee142bd6-0000.au-syd.containers.appdomain.cloud/ml/v4/deployments/c67283fc-693b-4f92-8042-6fb481e2f48d/predictions\" \u001b[90m->\u001b[0m \u001b[0m\u001b[90mnull\u001b[0m\u001b[0m\n",
      "    }\n",
      "\n",
      "\u001b[1m  # ibmcpd_model.crossdeploy_mortgagemodelrf_D0A9BA80\u001b[0m will be \u001b[1m\u001b[31mdestroyed\u001b[0m\u001b[0m\n",
      "\u001b[0m  \u001b[31m-\u001b[0m\u001b[0m resource \"ibmcpd_model\" \"crossdeploy_mortgagemodelrf_D0A9BA80\" {\n",
      "      \u001b[31m-\u001b[0m \u001b[0m\u001b[1m\u001b[0mchecksum\u001b[0m\u001b[0m      = \"dfef315f632960684a95b017c32ea912\" \u001b[90m->\u001b[0m \u001b[0m\u001b[90mnull\u001b[0m\u001b[0m\n",
      "      \u001b[31m-\u001b[0m \u001b[0m\u001b[1m\u001b[0mid\u001b[0m\u001b[0m            = \"86131972-189b-49a1-9a8b-4bbc3afb7589\" \u001b[90m->\u001b[0m \u001b[0m\u001b[90mnull\u001b[0m\u001b[0m\n",
      "      \u001b[31m-\u001b[0m \u001b[0m\u001b[1m\u001b[0mmodel_path\u001b[0m\u001b[0m    = \"dfef315f632960684a95b017c32ea912.tar.gz\" \u001b[90m->\u001b[0m \u001b[0m\u001b[90mnull\u001b[0m\u001b[0m\n",
      "      \u001b[31m-\u001b[0m \u001b[0m\u001b[1m\u001b[0mname\u001b[0m\u001b[0m          = \"mortgage-model-rf\" \u001b[90m->\u001b[0m \u001b[0m\u001b[90mnull\u001b[0m\u001b[0m\n",
      "      \u001b[31m-\u001b[0m \u001b[0m\u001b[1m\u001b[0mproject_id\u001b[0m\u001b[0m    = \"75c938f9-cc5f-45a9-b44f-3f1b51a69516\" \u001b[90m->\u001b[0m \u001b[0m\u001b[90mnull\u001b[0m\u001b[0m\n",
      "      \u001b[31m-\u001b[0m \u001b[0m\u001b[1m\u001b[0msoftware_spec\u001b[0m\u001b[0m = \"runtime-22.2-py3.10\" \u001b[90m->\u001b[0m \u001b[0m\u001b[90mnull\u001b[0m\u001b[0m\n",
      "      \u001b[31m-\u001b[0m \u001b[0m\u001b[1m\u001b[0mtype\u001b[0m\u001b[0m          = \"scikit-learn_1.1\" \u001b[90m->\u001b[0m \u001b[0m\u001b[90mnull\u001b[0m\u001b[0m\n",
      "    }\n",
      "\n",
      "\u001b[1m  # ibmcpd_model.crossdeploy_mortgagemodelrfpromoted_9850AEA8\u001b[0m will be \u001b[1m\u001b[31mdestroyed\u001b[0m\u001b[0m\n",
      "\u001b[0m  \u001b[31m-\u001b[0m\u001b[0m resource \"ibmcpd_model\" \"crossdeploy_mortgagemodelrfpromoted_9850AEA8\" {\n",
      "      \u001b[31m-\u001b[0m \u001b[0m\u001b[1m\u001b[0masset_id\u001b[0m\u001b[0m      = \"86131972-189b-49a1-9a8b-4bbc3afb7589\" \u001b[90m->\u001b[0m \u001b[0m\u001b[90mnull\u001b[0m\u001b[0m\n",
      "      \u001b[31m-\u001b[0m \u001b[0m\u001b[1m\u001b[0mid\u001b[0m\u001b[0m            = \"3f6fea77-5209-4791-b278-9dc2a6502ba5\" \u001b[90m->\u001b[0m \u001b[0m\u001b[90mnull\u001b[0m\u001b[0m\n",
      "      \u001b[31m-\u001b[0m \u001b[0m\u001b[1m\u001b[0mmodel_path\u001b[0m\u001b[0m    = \"dfef315f632960684a95b017c32ea912.tar.gz\" \u001b[90m->\u001b[0m \u001b[0m\u001b[90mnull\u001b[0m\u001b[0m\n",
      "      \u001b[31m-\u001b[0m \u001b[0m\u001b[1m\u001b[0mname\u001b[0m\u001b[0m          = \"mortgage-model-rf\" \u001b[90m->\u001b[0m \u001b[0m\u001b[90mnull\u001b[0m\u001b[0m\n",
      "      \u001b[31m-\u001b[0m \u001b[0m\u001b[1m\u001b[0mproject_id\u001b[0m\u001b[0m    = \"75c938f9-cc5f-45a9-b44f-3f1b51a69516\" \u001b[90m->\u001b[0m \u001b[0m\u001b[90mnull\u001b[0m\u001b[0m\n",
      "      \u001b[31m-\u001b[0m \u001b[0m\u001b[1m\u001b[0msoftware_spec\u001b[0m\u001b[0m = \"runtime-22.2-py3.10\" \u001b[90m->\u001b[0m \u001b[0m\u001b[90mnull\u001b[0m\u001b[0m\n",
      "      \u001b[31m-\u001b[0m \u001b[0m\u001b[1m\u001b[0mspace_id\u001b[0m\u001b[0m      = \"c80c0f20-ce3e-45fe-a0ae-e8012abffd81\" \u001b[90m->\u001b[0m \u001b[0m\u001b[90mnull\u001b[0m\u001b[0m\n",
      "      \u001b[31m-\u001b[0m \u001b[0m\u001b[1m\u001b[0mtype\u001b[0m\u001b[0m          = \"scikit-learn_1.1\" \u001b[90m->\u001b[0m \u001b[0m\u001b[90mnull\u001b[0m\u001b[0m\n",
      "    }\n",
      "\n",
      "\u001b[0m\u001b[1mPlan:\u001b[0m 0 to add, 0 to change, 3 to destroy.\n",
      "\u001b[0m\u001b[0m\u001b[1mibmcpd_deployment.crossdeploy_mortgagedeploymentrf_58AD9F47: Destroying... [id=c67283fc-693b-4f92-8042-6fb481e2f48d]\u001b[0m\u001b[0m\n",
      "\u001b[0m\u001b[1mibmcpd_deployment.crossdeploy_mortgagedeploymentrf_58AD9F47: Destruction complete after 0s\u001b[0m\n",
      "\u001b[0m\u001b[1mibmcpd_model.crossdeploy_mortgagemodelrfpromoted_9850AEA8: Destroying... [id=3f6fea77-5209-4791-b278-9dc2a6502ba5]\u001b[0m\u001b[0m\n",
      "\u001b[0m\u001b[1mibmcpd_model.crossdeploy_mortgagemodelrfpromoted_9850AEA8: Destruction complete after 3s\u001b[0m\n",
      "\u001b[0m\u001b[1mibmcpd_model.crossdeploy_mortgagemodelrf_D0A9BA80: Destroying... [id=86131972-189b-49a1-9a8b-4bbc3afb7589]\u001b[0m\u001b[0m\n",
      "\u001b[0m\u001b[1mibmcpd_model.crossdeploy_mortgagemodelrf_D0A9BA80: Destruction complete after 1s\u001b[0m\n",
      "\u001b[0m\u001b[1m\u001b[32m\n",
      "Destroy complete! Resources: 3 destroyed.\n",
      "\u001b[0m"
     ]
    }
   ],
   "source": [
    "flow.destroy()"
   ]
  }
 ],
 "metadata": {
  "kernelspec": {
   "display_name": "base",
   "language": "python",
   "name": "python3"
  },
  "language_info": {
   "codemirror_mode": {
    "name": "ipython",
    "version": 3
   },
   "file_extension": ".py",
   "mimetype": "text/x-python",
   "name": "python",
   "nbconvert_exporter": "python",
   "pygments_lexer": "ipython3",
   "version": "3.8.8 (default, Apr 13 2021, 15:08:03) [MSC v.1916 64 bit (AMD64)]"
  },
  "vscode": {
   "interpreter": {
    "hash": "e4cce46d6be9934fbd27f9ca0432556941ea5bdf741d4f4d64c6cd7f8dfa8fba"
   }
  }
 },
 "nbformat": 4,
 "nbformat_minor": 4
}
